{
 "cells": [
  {
   "cell_type": "markdown",
   "metadata": {},
   "source": [
    "<div style=\"background-color: #28a745 !important; color: white; min-height: 50px; padding: 10px; margin: auto; box-shadow: 0 .5rem 1rem rgba(0,0,0,.05),inset 0 -1px 0 rgba(0,0,0,.1)\"><h1>Praktikum Metode Komputasi 2020</h1></div>"
   ]
  },
  {
   "cell_type": "markdown",
   "metadata": {},
   "source": [
    "\n",
    "# Miniconda and Jupyter\n",
    "***\n",
    "- Praktikum Metode Komputasi\n",
    "- Pertemuan: 1\n",
    "- Waktu: Jumat, 6 Maret 2020"
   ]
  },
  {
   "cell_type": "markdown",
   "metadata": {},
   "source": [
    "## 1. Where to run Python? Command-line vs IDE\n",
    "\n",
    "Ada banyak cara dalam menjalankan bahasa pemrograman Python, seperti melalui _command-line_: Anaconda Prompt, Command Promt, dan Unix Shell, atau melalui *Integrated Development Environment* (IDE): PyCharm, Spyder, VSCode, dll. IDE menawarkan Code Editor dan Interpreter yang bersamaan sehingga lebih mudah dalam menjalankan program, kita tidak perlu menulis program dan menjalankannya dalam dua aplikasi yang berbeda.\n",
    "\n",
    "Contoh menjalankan Python dalam Pycharm (realpython.com):\n",
    "\n",
    "<img src=\"https://files.realpython.com/media/pycharm-running-script.33fb830f45b4.gif\" style=\"width:720px\" alt=\"Pycharm\" title=\"Tampilan saat menjalankan program di PyCharm\">\n",
    "\n",
    "Hal ini tentunya berbeda dengan apabila teman-teman menjalankan Python dari command-line. Command-line hanya bersifat sebagai Interpreter. Apabila teman-teman hendak menulis program maka harus membuka aplikasi Text Editor seperti Notepad, kemudian menjalankannya di Command-Prompt.\n",
    "\n",
    "Pada kasus command-line maka teman-teman menggunakan dua aplikasi berbeda untuk menjalankan Python:\n",
    "1. Notepad Text Editor (sebagai code editor)\n",
    "2. Anaconda-Prompt atau Command Prompt (sebagai interpreter)\n",
    "\n",
    "Selain kurang praktis, Notepad sebagai editor teks bawaan dari Windows juga tidak mendukung syntax-highlighting, yaitu pewarnaan kode Python berdasarkan fungsi dan tipenya, coba lihat gambar Pycharm di atas, spot the difference? ;)\n",
    "\n",
    "Contoh syntax highlighting:\n",
    "```Python\n",
    "print(\"Hello World\")\n",
    "```\n",
    "Setelah tau dua macam cara menjalankan Python,\n",
    ">**Jadi mana yang akan kita gunakan? Command-line atau IDE?**\n",
    "\n",
    "> _Kita akan menggunakan Jupyter Notebook (lah?)_ \n"
   ]
  },
  {
   "cell_type": "markdown",
   "metadata": {},
   "source": [
    "## 2. What is Conda and why should we bother with that?\n",
    "\n",
    "Sebelum menginstall Jupyter Notebook kita lebih dahulu harus menginstall Conda. Conda adalah aplikasi untuk manajemen paket (packages) dan environment untuk Python. Bingung? Gapapa :D\n",
    "\n",
    "Anaconda dapat membantu kita mengelola paket-paket Python yang kita gunakan, paket-paket tersebut banyak sekali macamnya dan memiliki kegunaan masing-masing (kita akan mempelajarinya nanti :D ). Beberapa contoh paket yang paling sering digunakan seperti Numpy, Scipy, dan Matplotlib.\n",
    "\n",
    "Untuk menginstall Conda kita dapat menggunakan link berikut [Download Anaconda!](https://docs.conda.io/projects/conda/en/latest/user-guide/install/windows.html)\n",
    "Ada dua macam installer Conda, yaitu:\n",
    "1. Anaconda, versi Conda yang lebih lengkap dari segi fitur dan paket yang dibawa.\n",
    "2. Miniconda, versi Conda mini yang tidak selengkap Anaconda.\n",
    "\n",
    "Pada praktikum ini kita akan menggunakan Miniconda dengan Python versi 3.7. Silahkan teman-teman dapat mendownload tergantung laptop masing-masing, 64 atau 32 bit :D\n",
    "\n",
    "Gambar\n",
    "\n",
    "Setelah itu lakukan instalasi:\n",
    "\n",
    "Gambar Instalasi\n",
    "\n",
    "\n"
   ]
  },
  {
   "cell_type": "code",
   "execution_count": null,
   "metadata": {},
   "outputs": [],
   "source": []
  },
  {
   "cell_type": "code",
   "execution_count": null,
   "metadata": {},
   "outputs": [],
   "source": []
  }
 ],
 "metadata": {
  "kernelspec": {
   "display_name": "Python 3",
   "language": "python",
   "name": "python3"
  },
  "language_info": {
   "codemirror_mode": {
    "name": "ipython",
    "version": 3
   },
   "file_extension": ".py",
   "mimetype": "text/x-python",
   "name": "python",
   "nbconvert_exporter": "python",
   "pygments_lexer": "ipython3",
   "version": "3.7.4"
  }
 },
 "nbformat": 4,
 "nbformat_minor": 2
}
