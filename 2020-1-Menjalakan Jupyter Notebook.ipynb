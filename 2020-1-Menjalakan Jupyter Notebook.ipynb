{
 "cells": [
  {
   "cell_type": "markdown",
   "metadata": {},
   "source": [
    "# Miniconda and Jupyter\n",
    "***\n",
    "- Praktikum Metode Komputasi\n",
    "- Pertemuan: 1\n",
    "- Waktu: Jumat, 6 Maret 2020"
   ]
  },
  {
   "cell_type": "markdown",
   "metadata": {},
   "source": [
    "## 1. Where to run Python? Command-line vs IDE\n",
    "\n",
    "Ada banyak cara dalam menjalankan bahasa pemrograman Python seperti melalui command-line: Anaconda Prompt dan Unix Shell, atau melalui *Integrated Development Environment* (IDE): PyCharm, Spyder, VSCode, dll. IDE menawarkan Code Editor dan Interpreter yang bersamaan sehingga lebih mudah dalam menjalankan program, kita tidak perlu menulis program dan menjalankannya dalam dua aplikasi yang berbeda.\n",
    "\n",
    "Contoh menjalankan Python dalam Pycharm (realpython.com):\n",
    "\n",
    "<img src=\"https://files.realpython.com/media/pycharm-running-script.33fb830f45b4.gif\" style=\"width:720px\" alt=\"Pycharm\" title=\"Tampilan saat menjalankan program di PyCharm\">\n",
    "\n",
    "Hal ini tentunya berbeda dengan apabila teman-teman menjalankan Python dari command-line. Command-line hanya bersifat sebagai Interpreter. Apabila teman-teman hendak menulis program maka harus membuka aplikasi Text Editor seperti Notepad, kemudian menjalankannya di Command-Prompt.\n",
    "\n",
    "Pada kasus command-line maka teman-teman menggunakan dua aplikasi berbeda untuk menjalankan Python:\n",
    "1. Notepad Text Editor (sebagai code editor)\n",
    "2. Anaconda-Prompt atau Command Prompt (sebagai interpreter)\n",
    "\n",
    "Selain kurang praktis, Notepad sebagai editor teks bawaan dari Windows juga tidak mendukung syntax-highlighting, yaitu pewarnaan kode Python berdasarkan fungsi dan tipenya, coba lihat gambar Pycharm di atas, spot the difference? ;)\n",
    "\n",
    ">*Jadi mana yang seharusnya kita gunakan? Command-line atau IDE?*\n",
    "\n"
   ]
  },
  {
   "cell_type": "code",
   "execution_count": null,
   "metadata": {},
   "outputs": [],
   "source": []
  },
  {
   "cell_type": "code",
   "execution_count": null,
   "metadata": {},
   "outputs": [],
   "source": []
  }
 ],
 "metadata": {
  "kernelspec": {
   "display_name": "Python 3",
   "language": "python",
   "name": "python3"
  },
  "language_info": {
   "codemirror_mode": {
    "name": "ipython",
    "version": 3
   },
   "file_extension": ".py",
   "mimetype": "text/x-python",
   "name": "python",
   "nbconvert_exporter": "python",
   "pygments_lexer": "ipython3",
   "version": "3.7.4"
  }
 },
 "nbformat": 4,
 "nbformat_minor": 2
}
