{
 "cells": [
  {
   "cell_type": "markdown",
   "metadata": {},
   "source": [
    "<div style=\"background-color: #28a745 !important; color: white; min-height: 50px; padding: 10px; margin: auto;\">\n",
    "    <p style=\"text-align: right; font-style: italic\">Praktikum Metode Komputasi-2</p>\n",
    "    <h1>Loop</h1>\n",
    "</div>\n",
    "<div style=\"background-color: whitesmoke; padding: 10px \">\n",
    "    <ul>\n",
    "        <li>Tujuan: Memperkenalkan Loop dan Fungsi Sederhana</li>\n",
    "        <li>Keluaran: Mahasiswa dapat melakukan iproses berulang dengan loop dan membuat fungsi sederhana</li>\n",
    "        <li>Pertemuan: 2</li>\n",
    "        <li>Waktu/Tempat: Jumat, 13 Maret 2020/ Ruang G3</li>\n",
    "    </ul>\n",
    "</div>"
   ]
  },
  {
   "cell_type": "markdown",
   "metadata": {},
   "source": [
    "# 1. Apa itu Looping?\n",
    "\n",
    "Looping adalah proses pengulangan/iterasi suatu proses pada program yang kita buat. Dengan _looping_ kita tidak perlu melakukan proses berulang secara manual karena semuanya telah dilakukan oleh fungsi _looping_ tersebut.\n",
    "Contoh:\n",
    "\n",
    "Pada kata `oxygen`, apabila kita ingin mencetak masing-masing huruf yang ada pada kata tersebut maka kita dapat melakukan proses secara manual sepeti sebagai berikut:\n",
    "\n",
    "```python\n",
    "kata = \"oxygen\"\n",
    "print(kata[0])\n",
    "print(kata[1])\n",
    "print(kata[2])\n",
    "print(kata[3])\n",
    "print(kata[4])\n",
    "print(kata[5])\n",
    "```\n",
    "\n",
    "maka hasilnya adalah:\n",
    "```\n",
    "o\n",
    "x\n",
    "y\n",
    "g\n",
    "e\n",
    "n\n",
    "```\n",
    "\n",
    "## 1.1 `For` Loop\n",
    "Nah pada proses tersebut terdapat pengulangan perintah `print` untuk masing-masing indeks pada kata `oxygen`. Dengan menggunakan _looping_ `for` kita dapat melakukan pengulangan perintah yaitu dengan:"
   ]
  },
  {
   "cell_type": "code",
   "execution_count": 5,
   "metadata": {},
   "outputs": [
    {
     "name": "stdout",
     "output_type": "stream",
     "text": [
      "o\n",
      "x\n",
      "y\n",
      "g\n",
      "e\n",
      "n\n"
     ]
    }
   ],
   "source": [
    "word = \"oxygen\"\n",
    "for char in word:\n",
    "    print (char)"
   ]
  },
  {
   "cell_type": "markdown",
   "metadata": {},
   "source": [
    "Nah pada proses di atas mula-mula kita mendefinisikan `word`, kemudian di bawahnya kita mulai menjalankan proses _loop_ dengan perintah `for char in word: `, maksud disini adalah bahwa untuk setiap `char`/character di dalam `word` kita akan mencetak masing-masing huruf/karakter `print (char)`. Variabel `char` disini sebenarnya bisa diganti apapun, tapi dalam kasus ini kita pilih `char` karena character/huruf merupakan penyusun kata. Jadi untuk setiap _loop_ kita lebih baik memilih variabel yang masuk akal. Skema _loop_ dapat dilihat pada Gambar 1.\n",
    "\n",
    "![Skema looping](http://swcarpentry.github.io/python-novice-inflammation/fig/loops_image.png \"Skema looping (swcarperntry.org\")\n",
    "\n",
    "Kita dapat memodifikasi _loop_ dengan berbagai macam perintah, pada contoh di bawah ini kita akan menampilkan masing-masing huruf beserta keterangan huruf ke berapa pada kata `oxygen`. Pertama kita mendefinisikan dahulu `charnum` sebagai angka yang menunjukkan urutan karakter dengan nilai awal `0`. Setiap pengulangan _loop_ kita akan menambah `charnum` dengan angka `1` sehingga _loop_ pertama akan memiliki nilai `0+1`, selanjutnya `1+1`, `2+1`, dst."
   ]
  },
  {
   "cell_type": "code",
   "execution_count": 21,
   "metadata": {},
   "outputs": [
    {
     "name": "stdout",
     "output_type": "stream",
     "text": [
      "huruf ke- 1 adalah o\n",
      "huruf ke- 2 adalah x\n",
      "huruf ke- 3 adalah y\n",
      "huruf ke- 4 adalah g\n",
      "huruf ke- 5 adalah e\n",
      "huruf ke- 6 adalah n\n"
     ]
    }
   ],
   "source": [
    "word = \"oxygen\"\n",
    "charnum = 0 # huruf keberapa? di awali dengan angka 0\n",
    "for char in word:\n",
    "    charnum = charnum + 1 # setiap pengulangan kita menambah charnum dengan 1\n",
    "    print (\"huruf ke-\", charnum, \"adalah\", char)"
   ]
  },
  {
   "cell_type": "markdown",
   "metadata": {},
   "source": [
    "Lalu apa yang terjadi jika definisi `charnum` kita letakkan di dalam *loop*?"
   ]
  },
  {
   "cell_type": "code",
   "execution_count": 22,
   "metadata": {},
   "outputs": [
    {
     "name": "stdout",
     "output_type": "stream",
     "text": [
      "huruf ke- 1 adalah o\n",
      "huruf ke- 1 adalah x\n",
      "huruf ke- 1 adalah y\n",
      "huruf ke- 1 adalah g\n",
      "huruf ke- 1 adalah e\n",
      "huruf ke- 1 adalah n\n"
     ]
    }
   ],
   "source": [
    "word = \"oxygen\"\n",
    "for char in word:\n",
    "    charnum = 0 # huruf keberapa? di awali dengan angka 0\n",
    "    charnum = charnum + 1 # setiap pengulangan kita menambah charnum dengan 1\n",
    "    print (\"huruf ke-\", charnum, \"adalah\", char)"
   ]
  },
  {
   "cell_type": "markdown",
   "metadata": {},
   "source": [
    "_Loop_ akan mengubah setiap variabel dan hasilnya tersimpan setelah proses loop ini berhasil, pada contoh ini kita mempunyai variabel `nama` dengan nilai `alang`. Apabila kita menjalankan loop dengan nama variabel `nama`, dengan isi _loop_ tertentu maka yang tersimpan adalah `nama` dari variabel _loop_. Contoh:"
   ]
  },
  {
   "cell_type": "code",
   "execution_count": 15,
   "metadata": {},
   "outputs": [
    {
     "name": "stdout",
     "output_type": "stream",
     "text": [
      "a\n",
      "l\n",
      "a\n",
      "n\n",
      "g\n",
      "Setelah loop, huruf yang tersimpan adalah g\n"
     ]
    }
   ],
   "source": [
    "huruf = \"a\"\n",
    "for huruf in \"alang\":\n",
    "    print(huruf)\n",
    "print(\"Setelah loop, huruf yang tersimpan adalah\", huruf)"
   ]
  },
  {
   "cell_type": "markdown",
   "metadata": {},
   "source": [
    "### Iterasi Paralel\n",
    "Kita dapat melakukan iterasi/pengulangan paralel. Iterasi paralel adalah pengulangan dengan dua atau lebih _list_ dengan jumlah anggota _list_ yang masing-masing sama. Contoh\n"
   ]
  },
  {
   "cell_type": "code",
   "execution_count": 23,
   "metadata": {},
   "outputs": [
    {
     "name": "stdout",
     "output_type": "stream",
     "text": [
      "Nama:  Alang \n",
      " Umur:  20 \n",
      "\n",
      "Nama:  Ormas \n",
      " Umur:  21 \n",
      "\n",
      "Nama:  Gnala \n",
      " Umur:  21 \n",
      "\n",
      "Nama:  Samro \n",
      " Umur:  20 \n",
      "\n"
     ]
    }
   ],
   "source": [
    "nama = [\"Alang\", \"Ormas\", \"Gnala\", \"Samro\"]\n",
    "umur = [20, 21, 21, 20]\n",
    "jumlah_orang = len(nama) # jumlah anggota dalam list\n",
    "\n",
    "for indeks in range(jumlah_orang): # range berguna membuat list: range(3): (0,1,2)\n",
    "    print(\"Nama: \", nama[indeks], \"\\n\", \"Umur: \", umur[indeks], \"\\n\")\n",
    "    \n",
    "    "
   ]
  },
  {
   "cell_type": "markdown",
   "metadata": {},
   "source": [
    "### Nested Loop\n",
    "\n",
    "*Nested loop* adalah _loop_ yang berada di dalam _loop_. Contoh:\n",
    "Pada jam kita bisa dianalogikan sebuah *loop* dimana menit berada dalam *loop* jam. Ketika menit sudah mencapai nilai 60 maka nilai jam akan bertambah 1:"
   ]
  },
  {
   "cell_type": "code",
   "execution_count": 32,
   "metadata": {},
   "outputs": [
    {
     "name": "stdout",
     "output_type": "stream",
     "text": [
      "Sekarang pukul:  7 0\n",
      "Sekarang pukul:  7 10\n",
      "Sekarang pukul:  7 20\n",
      "Sekarang pukul:  7 30\n",
      "Sekarang pukul:  7 40\n",
      "Sekarang pukul:  7 50\n",
      "Sekarang pukul:  8 0\n",
      "Sekarang pukul:  8 10\n",
      "Sekarang pukul:  8 20\n",
      "Sekarang pukul:  8 30\n",
      "Sekarang pukul:  8 40\n",
      "Sekarang pukul:  8 50\n",
      "Sekarang pukul:  9 0\n",
      "Sekarang pukul:  9 10\n",
      "Sekarang pukul:  9 20\n",
      "Sekarang pukul:  9 30\n",
      "Sekarang pukul:  9 40\n",
      "Sekarang pukul:  9 50\n"
     ]
    }
   ],
   "source": [
    "hours = [7, 8, 9]\n",
    "minutes = [0, 10, 20, 30, 40, 50]\n",
    "\n",
    "for hour in hours:\n",
    "    for minute in minutes:\n",
    "        print(\"Sekarang pukul: \", hour, minute)"
   ]
  },
  {
   "cell_type": "markdown",
   "metadata": {},
   "source": [
    "### `break` Statement\n",
    "Fungsi `break` berguna untuk menghentikan *loop* apabila memenuhi syarat tertentu. Contoh:"
   ]
  },
  {
   "cell_type": "code",
   "execution_count": 47,
   "metadata": {},
   "outputs": [
    {
     "name": "stdout",
     "output_type": "stream",
     "text": [
      "Alang\n",
      "Ormas\n",
      "Nah Alang kebalik sudah ketemu: Gnala\n"
     ]
    }
   ],
   "source": [
    "nama = [\"Alang\", \"Ormas\", \"Gnala\", \"Samro\"]\n",
    "for orang in nama:\n",
    "    if orang == \"Gnala\": # jika orang sama dengan Gnala\n",
    "        print(\"Nah Alang kebalik sudah ketemu:\", orang)\n",
    "        break\n",
    "    print(orang)\n",
    "        "
   ]
  },
  {
   "cell_type": "markdown",
   "metadata": {},
   "source": [
    "Pada contoh di atas `Samro` tidak tercetak karena apabila `Gnala` sudah ditemukan maka *loop* akan berhenti `break`."
   ]
  },
  {
   "cell_type": "markdown",
   "metadata": {},
   "source": [
    "### `continue` Statement\n",
    "\n",
    "`continue` berguna untuk melanjutkan, atau menskip, looping."
   ]
  },
  {
   "cell_type": "code",
   "execution_count": 128,
   "metadata": {},
   "outputs": [
    {
     "name": "stdout",
     "output_type": "stream",
     "text": [
      "Alang\n",
      "Ormas\n",
      "Samro\n"
     ]
    }
   ],
   "source": [
    "nama = [\"Alang\", \"Ormas\", \"Gnala\", \"Samro\"]\n",
    "for orang in nama:\n",
    "    if orang == \"Gnala\": # jika orang sama dengan Gnala\n",
    "        continue # lanjut\n",
    "    print(orang)"
   ]
  },
  {
   "cell_type": "markdown",
   "metadata": {},
   "source": [
    "Kita dapat menyisipkan perintah dalam variabel yang di lewati, seperti pada contoh ini. Untuk yang hadir kita skip, tetapi kita tetap masukkan perintah `print` yang berbeda dengan `print` yang tidak hadir."
   ]
  },
  {
   "cell_type": "code",
   "execution_count": 125,
   "metadata": {},
   "outputs": [
    {
     "name": "stdout",
     "output_type": "stream",
     "text": [
      "Alang          hadir\n",
      "Ormas     tidak hadir\n",
      "Gnala          hadir\n",
      "Samro     tidak hadir\n"
     ]
    }
   ],
   "source": [
    "nama = [\"Alang\", \"Ormas\", \"Gnala\", \"Samro\"]\n",
    "hadir = [\"Tidak\", \"Ya\", \"Tidak\", \"Ya\"]\n",
    "\n",
    "format_cetak = \"%-10s%10s\"\n",
    "\n",
    "for indeks in range(len(nama)):\n",
    "    if hadir[indeks] == \"Ya\":\n",
    "        print(format_cetak % (nama[indeks], \"tidak hadir\"))\n",
    "        continue\n",
    "    print(format_cetak % (nama[indeks], \"hadir\"))"
   ]
  },
  {
   "cell_type": "markdown",
   "metadata": {},
   "source": [
    "<div style=\"background-color: #ffc107  !important; color: grey; min-height: 50px; padding: 10px; margin: auto;\">\n",
    "    <p style=\"text-align: right; font-style: italic\">Praktikum Metode Komputasi-1</p>\n",
    "    <h1>Tugas 2: Looping</h1>\n",
    "</div>\n",
    "<div style=\"background-color: whitesmoke; padding: 10px; padding-bottom: 0px; \">\n",
    "    <ul>\n",
    "        <li>Praktikum Metode Komputasi</li>\n",
    "        <li>Pertemuan: 2</li>\n",
    "        <li>Format file: Portable Document Format (PDF)</li>\n",
    "        <li>Template:<a href=\"./material/report_template.docx\"> Download Template Laporan</a></li>\n",
    "        <li>Link Pengumpulan: Google Classroom</li>\n",
    "        <li>Format Nama File: 2-[NIM]-Nama, contoh: 1-362705-Anang Sahroni</li>\n",
    "    </ul>\n",
    "</div>\n",
    "<div style=\"background-color: #dc3545; color: white \">\n",
    "    <ul>\n",
    "        <li>Deadline: Rabu, 28 Maret 2020 23.59 WIB</li>\n",
    "    </ul>\n",
    "</div>"
   ]
  },
  {
   "cell_type": "markdown",
   "metadata": {},
   "source": [
    "> *Soal di bawah ini hanyalah contoh saja untuk memperlihatkan bahwa dengan metkom kita dapat membantu menyelesaikan permasalahan real di lapangan. Tentunya kita berharap bahwa tidak ada di antara kita dan orang-orang di sekitar kita untuk tertular COVID-19. Jangan lupa untuk mematuhi anjuran untuk social distancing dan selalu menjaga daya tahan tubuh. Semangat :D*\n",
    "\n",
    "Dinas Kesehatan Provinsi Sukasehat sedang mencari orang untuk membantu men tracing orang-orang yang berinterakasi dengan Mr. X. Dari data-data yang dikumpulkan, Dinas Kesehatan membuat daftar orang-orang terdekat dengan Mr. X dan kemudian mewawancarai mengenai apakah sempat bertemu dan memiliki gejala batuk, demam, dan sesak nafas. Data tersebut dituangkan dalam tabel sebagai berikut:\n",
    "```\n",
    "Tracing interaksi dengan Mr. X (COVID-19)\n",
    "========================================\n",
    "Nama                Bertemu      Gejala\n",
    "----------------------------------------\n",
    "John                  Tidak       Tidak\n",
    "Swiper                   Ya          Ya\n",
    "Boot                  Tidak       Tidak\n",
    "Roger                    Ya       Tidak\n",
    "Dora                  Tidak       Tidak\n",
    "Diego                 Tidak       Tidak\n",
    "```\n",
    "Kamu sebagai mahasiswa yang pernah belajar Python diminta untuk membantu menghitung jumlah PDP dan ODP secara otomatis serta menambah kolom statusnya. Jika bertemut tetapi tidak bergejala: Orang dalam Pengawasan (ODP) sementara jika bertemu tetapi bergejala maka statusnya adalah Orang dalam Pengawasan (ODP). Hasilnya adalah seperti pada tabel di bawah ini:\n",
    "```\n",
    "Tracing interaksi dengan Mr. X (COVID-19)\n",
    "=================================================\n",
    "Nama                Bertemu      Gejala    Status\n",
    "-------------------------------------------------\n",
    "John                  Tidak       Tidak         -\n",
    "Swiper                   Ya       Tidak       ODP\n",
    "Boot                  Tidak       Tidak         -\n",
    "Roger                    Ya          Ya       PDP\n",
    "Dora                  Tidak       Tidak         -\n",
    "Diego                 Tidak       Tidak         -\n",
    "-------------------------------------------------\n",
    "Jumlah PDP:  1\n",
    "Jumlah ODP:  1\n",
    "\n",
    "\n",
    "Keterangan: \n",
    "ODP: orang dalam pengawasan\n",
    "PDP: pasien dalam pengawasan\n",
    "```\n",
    "![tracing](./material/tracing.png)\n",
    "Teman-teman dapat menggunakan fitur `for` dan memilih antara `break`,`continue`, atau keduanya. Untuk mencetak jangan lupa menggunakan pengetahuan dari tugas `string` kemarin :D."
   ]
  }
 ],
 "metadata": {
  "kernelspec": {
   "display_name": "Python 3",
   "language": "python",
   "name": "python3"
  },
  "language_info": {
   "codemirror_mode": {
    "name": "ipython",
    "version": 3
   },
   "file_extension": ".py",
   "mimetype": "text/x-python",
   "name": "python",
   "nbconvert_exporter": "python",
   "pygments_lexer": "ipython3",
   "version": "3.7.5"
  }
 },
 "nbformat": 4,
 "nbformat_minor": 4
}
