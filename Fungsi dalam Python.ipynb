{
 "cells": [
  {
   "cell_type": "markdown",
   "metadata": {},
   "source": [
    "# Fungsi dalam Python\n",
    "\n",
    "Fungsi adalah program kecil terpisah yang menyusun program utama, program utama biasanya terdiri atas beberapa fungsi-fungi (program-program kecil. Kegunaan pemisahan menjadi fungsi adalah untuk mempermudah melokalisasi kesalahan, mempermudah modifikasi dan perbaikan, memungkinkan penggunaan kembali di program utama lain, serta meminimalkan perintah yang sama.\n",
    "\n",
    "Kita biasanya sudah biasa menggunakan fungsi, tanpa kita sadari, karena Python memiliki beberapa fungsi bawaan seperti contohnya:\n",
    "\n",
    "```python\n",
    "print(\"Hello World\")\n",
    "```\n",
    "\n",
    "ya, `print()` merupakan salah satu fungsi yang berfungsi untuk mencetak argumen yang kita tuliskan. Fungsi-fungsi lain seperti `input()`, `len()`, `max()`, dsb.\n",
    "\n",
    "![struktur fungsi](http://swcarpentry.github.io/python-novice-inflammation/fig/python-function.svg \"Struktur Fungsi (swcarpentry.github.io)\")\n",
    "\n",
    "Struktur umum fungsi adalah seperti di atas ([swcarpentry](swcarpentry.github.io)), dimulai dengan `def` sebagai tanda pendefinisian fungsi dilanjutkan dengan `fahr_to_celcius` yang merupakan nama fungsi. Argumen `temp` setelah nama fungsi merupakan variabel yang akan kita masukkan dalam fungsi. `return` akan mengembalikan nilai yang disini merupakan nilai suhu dalam celcius.\n",
    "\n",
    "```python\n",
    "def <nama fungsi> (argumen1, argumen2,dst):\n",
    "    <statemen-statemen>\n",
    "    return <value>\n",
    "```\n",
    "\n",
    "Fungsi tidak harus memiliki argumen dan tidak harus memberikan nilai balik dalam `return`, seperti contoh:"
   ]
  },
  {
   "cell_type": "code",
   "execution_count": 42,
   "metadata": {},
   "outputs": [],
   "source": [
    "def cetak_ucapan():\n",
    "    print(\"Selamat kuliah online\")"
   ]
  },
  {
   "cell_type": "code",
   "execution_count": 43,
   "metadata": {},
   "outputs": [],
   "source": [
    "def lagi_apa_sekarang():\n",
    "    print(\"Sekarang sedang kuliah online\")"
   ]
  },
  {
   "cell_type": "code",
   "execution_count": 44,
   "metadata": {},
   "outputs": [
    {
     "name": "stdout",
     "output_type": "stream",
     "text": [
      "Sekarang sedang kuliah online\n"
     ]
    }
   ],
   "source": [
    "lagi_apa_sekarang()"
   ]
  },
  {
   "cell_type": "code",
   "execution_count": 45,
   "metadata": {},
   "outputs": [
    {
     "name": "stdout",
     "output_type": "stream",
     "text": [
      "Selamat kuliah online\n"
     ]
    }
   ],
   "source": [
    "cetak_ucapan()"
   ]
  },
  {
   "cell_type": "code",
   "execution_count": 51,
   "metadata": {},
   "outputs": [],
   "source": [
    "def tambahkan(a,b):\n",
    "    print(a+b)"
   ]
  },
  {
   "cell_type": "code",
   "execution_count": 47,
   "metadata": {},
   "outputs": [
    {
     "name": "stdout",
     "output_type": "stream",
     "text": [
      "11\n"
     ]
    }
   ],
   "source": [
    "tambahkan(3,8)"
   ]
  },
  {
   "cell_type": "code",
   "execution_count": 53,
   "metadata": {},
   "outputs": [
    {
     "name": "stdout",
     "output_type": "stream",
     "text": [
      "10\n",
      "None\n"
     ]
    }
   ],
   "source": [
    "a = tambahkan(7,3)\n",
    "print(a)"
   ]
  },
  {
   "cell_type": "code",
   "execution_count": 55,
   "metadata": {},
   "outputs": [],
   "source": [
    "def tambah(x,y):\n",
    "    return x+y"
   ]
  },
  {
   "cell_type": "code",
   "execution_count": 56,
   "metadata": {},
   "outputs": [
    {
     "name": "stdout",
     "output_type": "stream",
     "text": [
      "6\n"
     ]
    }
   ],
   "source": [
    "tbh = tambah(3,3)\n",
    "print(tbh)"
   ]
  },
  {
   "cell_type": "markdown",
   "metadata": {},
   "source": [
    "Untuk bentuk umum fungsi:"
   ]
  },
  {
   "cell_type": "code",
   "execution_count": 57,
   "metadata": {},
   "outputs": [],
   "source": [
    "def luas_lingkaran(jari_jari):\n",
    "    luas = 2 * 3.14 * (jari_jari**2)\n",
    "    return luas"
   ]
  },
  {
   "cell_type": "markdown",
   "metadata": {},
   "source": [
    "Volume tabung adalah luas alas(lingkaran) kali tinggi:\n",
    "\n",
    "Kuisnya adalah buatlah fungsi volume tabung dengan memasukkan fungsi luas_lingkaran,\n",
    "\n",
    "luas_tabung = 2 x pi x r2 x t (bukan seperti ini)\n",
    "luas_tabung = luas_lingkaran x t (tapi gini)"
   ]
  },
  {
   "cell_type": "code",
   "execution_count": 15,
   "metadata": {},
   "outputs": [
    {
     "data": {
      "text/plain": [
       "307.72"
      ]
     },
     "execution_count": 15,
     "metadata": {},
     "output_type": "execute_result"
    }
   ],
   "source": [
    "luas_lingkaran(7)"
   ]
  },
  {
   "cell_type": "markdown",
   "metadata": {},
   "source": [
    "Dalam kasus di atas nama fungsi adalah `luas_lingkaran` dengan argumen yang dimasukkan berupa nilai `jari_jari`, hasil yang dikembalikan adalah luas dari lingkaran.\n",
    "\n",
    "Fungsi juga dapat dipanggil untuk dimasukkan dalam fungsi yang lain, seperti contohnya dalam kasus ini adalah penghitungan volume tabung:"
   ]
  },
  {
   "cell_type": "code",
   "execution_count": 12,
   "metadata": {},
   "outputs": [],
   "source": [
    "# Mencari volume_tabung\n",
    "def volume_tabung(jari_jari, tinggi):\n",
    "    volume = luas_lingkaran(jari_jari) * tinggi\n",
    "    return volume"
   ]
  },
  {
   "cell_type": "code",
   "execution_count": 14,
   "metadata": {},
   "outputs": [
    {
     "data": {
      "text/plain": [
       "3077.2000000000003"
      ]
     },
     "execution_count": 14,
     "metadata": {},
     "output_type": "execute_result"
    }
   ],
   "source": [
    "volume_tabung(7,10)"
   ]
  },
  {
   "cell_type": "markdown",
   "metadata": {},
   "source": [
    "## Ekspresi `lambda`"
   ]
  },
  {
   "cell_type": "code",
   "execution_count": 59,
   "metadata": {},
   "outputs": [
    {
     "data": {
      "text/plain": [
       "3"
      ]
     },
     "execution_count": 59,
     "metadata": {},
     "output_type": "execute_result"
    }
   ],
   "source": [
    "y = lambda x: x+1\n",
    "y(2)"
   ]
  },
  {
   "cell_type": "code",
   "execution_count": 60,
   "metadata": {},
   "outputs": [
    {
     "data": {
      "text/plain": [
       "7"
      ]
     },
     "execution_count": 60,
     "metadata": {},
     "output_type": "execute_result"
    }
   ],
   "source": [
    "(lambda x: x+3)(4)"
   ]
  },
  {
   "cell_type": "code",
   "execution_count": null,
   "metadata": {},
   "outputs": [],
   "source": []
  },
  {
   "cell_type": "code",
   "execution_count": 24,
   "metadata": {},
   "outputs": [
    {
     "ename": "SyntaxError",
     "evalue": "invalid syntax (<ipython-input-24-86a30815e0f5>, line 1)",
     "output_type": "error",
     "traceback": [
      "\u001b[0;36m  File \u001b[0;32m\"<ipython-input-24-86a30815e0f5>\"\u001b[0;36m, line \u001b[0;32m1\u001b[0m\n\u001b[0;31m    (lambda x: if x==2)(2)\u001b[0m\n\u001b[0m                ^\u001b[0m\n\u001b[0;31mSyntaxError\u001b[0m\u001b[0;31m:\u001b[0m invalid syntax\n"
     ]
    }
   ],
   "source": [
    "(lambda x: if x==2)(2)"
   ]
  },
  {
   "cell_type": "code",
   "execution_count": 27,
   "metadata": {},
   "outputs": [
    {
     "data": {
      "text/plain": [
       "'Sir Robin'"
      ]
     },
     "execution_count": 27,
     "metadata": {},
     "output_type": "execute_result"
    }
   ],
   "source": [
    "def nama():\n",
    "    gelar = 'Sir'\n",
    "    aksi = (lambda x: gelar + ' ' + x)\n",
    "    return aksi\n",
    "\n",
    "act = nama()\n",
    "act('Robin')"
   ]
  },
  {
   "cell_type": "markdown",
   "metadata": {},
   "source": [
    "## Scope Variable\n",
    "\n",
    "Variabel dalam fungsi bersifat *lokal* artinya hanya berlaku di dalam fungsi tersebut, sementara variabel di luar fungsi bersifat *global* dana berlaku dimanapun, contohnya:"
   ]
  },
  {
   "cell_type": "code",
   "execution_count": 63,
   "metadata": {},
   "outputs": [
    {
     "name": "stdout",
     "output_type": "stream",
     "text": [
      "('hasil penjumlahan angka dengan x= ', 10, 'adalah', 13)\n",
      "hasil penjumlahan angka dengan x=  30 adalah\n"
     ]
    }
   ],
   "source": [
    "# variabel global\n",
    "x = 30\n",
    "\n",
    "def penjumlahan_x(angka):\n",
    "    x = 10 # variabel lokal\n",
    "    return (\"hasil penjumlahan angka dengan x= \", x, \"adalah\", x+angka)\n",
    "\n",
    "print(penjumlahan_x(3))\n",
    "print(\"hasil penjumlahan angka dengan x= \", x, \"adalah\")"
   ]
  },
  {
   "cell_type": "markdown",
   "metadata": {},
   "source": [
    "```python\n",
    "huruf_terluar(\"online\")\n",
    "```\n",
    "output: oe\n",
    "\n",
    "buatlah fungsinya"
   ]
  },
  {
   "cell_type": "code",
   "execution_count": 69,
   "metadata": {},
   "outputs": [
    {
     "name": "stdout",
     "output_type": "stream",
     "text": [
      "oe\n",
      "None\n"
     ]
    }
   ],
   "source": [
    "def huruf_terluar(kata):\n",
    "    print (kata[0] + kata[-1])\n",
    "\n",
    "a = huruf_terluar(\"online\")\n",
    "print(a)\n"
   ]
  },
  {
   "cell_type": "markdown",
   "metadata": {},
   "source": [
    "## Dokumentasi Fungsi"
   ]
  },
  {
   "cell_type": "code",
   "execution_count": 70,
   "metadata": {},
   "outputs": [],
   "source": [
    "def luas_segitiga(alas, tinggi):\n",
    "    \"\"\"Menghitung luas segitiga dengan alas dan tinggi tertentu\n",
    "    contoh:   luas_segitiga(4,10) ---> 20\n",
    "    \"\"\"\n",
    "    luas = 0.5 * alas * tinggi\n",
    "    return luas\n",
    "    "
   ]
  },
  {
   "cell_type": "code",
   "execution_count": 71,
   "metadata": {},
   "outputs": [
    {
     "name": "stdout",
     "output_type": "stream",
     "text": [
      "Help on function luas_segitiga in module __main__:\n",
      "\n",
      "luas_segitiga(alas, tinggi)\n",
      "    Menghitung luas segitiga dengan alas dan tinggi tertentu\n",
      "    contoh:   luas_segitiga(4,10) ---> 20\n",
      "\n"
     ]
    }
   ],
   "source": [
    "help(luas_segitiga)"
   ]
  },
  {
   "cell_type": "markdown",
   "metadata": {},
   "source": [
    "## Fungsi Rekursif\n",
    "\n",
    "Fungsi rekursif adalah fungsi yang memanggil dirinya sendiri, contoh dari Modul:"
   ]
  },
  {
   "cell_type": "code",
   "execution_count": 86,
   "metadata": {},
   "outputs": [
    {
     "name": "stdout",
     "output_type": "stream",
     "text": [
      "3628800\n"
     ]
    }
   ],
   "source": [
    "# Program untuk menghitung faktorial\n",
    "def faktorial(nilai):\n",
    "    if nilai <= 1:\n",
    "        return 1\n",
    "    else:\n",
    "        return nilai * faktorial(nilai-1)\n",
    "\n",
    "print(faktorial(10))"
   ]
  },
  {
   "cell_type": "markdown",
   "metadata": {},
   "source": [
    "3! = 3 * 2 * 1\n",
    "2! = 2 * 1\n",
    "\n",
    "faktorial(2)\n",
    "2 * faktorial(2-1) = 2 * 1\n",
    "3 * faktorial(3-1) = 3 * faktorial(2) = 3 * 2 * faktorial(1)"
   ]
  },
  {
   "cell_type": "code",
   "execution_count": 87,
   "metadata": {},
   "outputs": [
    {
     "name": "stdout",
     "output_type": "stream",
     "text": [
      "0! =  1\n",
      "1! =  1\n",
      "2! =  2\n",
      "3! =  6\n",
      "4! =  24\n"
     ]
    }
   ],
   "source": [
    "for i in range(5):\n",
    "    print(str(i)+'! = ', faktorial(i))"
   ]
  },
  {
   "cell_type": "markdown",
   "metadata": {},
   "source": [
    "## Melewatkan Argumen dengan Kata Kunci"
   ]
  },
  {
   "cell_type": "code",
   "execution_count": 77,
   "metadata": {},
   "outputs": [
    {
     "ename": "TypeError",
     "evalue": "tambah() got multiple values for argument 'a'",
     "output_type": "error",
     "traceback": [
      "\u001b[0;31m---------------------------------------------------------------------------\u001b[0m",
      "\u001b[0;31mTypeError\u001b[0m                                 Traceback (most recent call last)",
      "\u001b[0;32m<ipython-input-77-9e5b506ef4e8>\u001b[0m in \u001b[0;36m<module>\u001b[0;34m\u001b[0m\n\u001b[1;32m      4\u001b[0m \u001b[0;31m#tambah(6,3)\u001b[0m\u001b[0;34m\u001b[0m\u001b[0;34m\u001b[0m\u001b[0;34m\u001b[0m\u001b[0m\n\u001b[1;32m      5\u001b[0m \u001b[0;34m\u001b[0m\u001b[0m\n\u001b[0;32m----> 6\u001b[0;31m \u001b[0mtambah\u001b[0m\u001b[0;34m(\u001b[0m\u001b[0;36m4\u001b[0m\u001b[0;34m,\u001b[0m \u001b[0ma\u001b[0m\u001b[0;34m=\u001b[0m\u001b[0;36m6\u001b[0m\u001b[0;34m)\u001b[0m\u001b[0;34m\u001b[0m\u001b[0;34m\u001b[0m\u001b[0m\n\u001b[0m",
      "\u001b[0;31mTypeError\u001b[0m: tambah() got multiple values for argument 'a'"
     ]
    }
   ],
   "source": [
    "def tambah(a,b):\n",
    "    return a/b\n",
    "\n",
    "#tambah(6,3)\n",
    "\n",
    "tambah(4, a=6)"
   ]
  },
  {
   "cell_type": "code",
   "execution_count": 82,
   "metadata": {},
   "outputs": [],
   "source": [
    "# membuat semacam fungsi dengan argumen yang sudah didefinisikan terlebih dahulu\n",
    "\n",
    "def prisma(luas_alas, tinggi=10):\n",
    "    \"Menghitung volume prisma dengan tinggi default=10\"\n",
    "    volume = luas_alas * tinggi\n",
    "    return volume"
   ]
  },
  {
   "cell_type": "code",
   "execution_count": 88,
   "metadata": {},
   "outputs": [
    {
     "data": {
      "text/plain": [
       "60"
      ]
     },
     "execution_count": 88,
     "metadata": {},
     "output_type": "execute_result"
    }
   ],
   "source": [
    "prisma(3, 20)"
   ]
  },
  {
   "cell_type": "markdown",
   "metadata": {},
   "source": [
    "Buatlah fungsi untuk membalik sebuah string\n",
    "\n",
    "misal:\n",
    "\n",
    "balik_kata(\"ormas\")\n",
    "\n",
    "-> samro"
   ]
  },
  {
   "cell_type": "markdown",
   "metadata": {},
   "source": [
    "buatlah sebuah funsi untuk menghitung rata-rata dari\n",
    "x = [1,2,3,4,5,6,7,8]\n",
    "\n",
    "rata_rata(x)\n"
   ]
  },
  {
   "cell_type": "code",
   "execution_count": 98,
   "metadata": {},
   "outputs": [
    {
     "name": "stdout",
     "output_type": "stream",
     "text": [
      "5.5\n"
     ]
    }
   ],
   "source": [
    "x = [1, 2, 3, 4, 5, 6, 7, 8, 9, 10]\n",
    "def rata_rata (x):\n",
    "    angka_genap = 0\n",
    "    for angka in x:\n",
    "        #if angka%1 == 0: \n",
    "        angka_genap += 1\n",
    "    print (sum(x)/angka_genap)\n",
    "    \n",
    "rata_rata(x)"
   ]
  },
  {
   "cell_type": "code",
   "execution_count": null,
   "metadata": {},
   "outputs": [],
   "source": [
    "x = [1,2,3,4,5,6,7,8,9,10]\n",
    "\n",
    "def rata_rata(x):\n",
    "    angka_awal = 0\n",
    "    n = 0\n",
    "    for angka in x:\n",
    "        angka_awal = angka_awal + angka\n",
    "        n = n + 1 # jumlah angka\n",
    "    return angka_awal/n\n",
    "\n",
    "rata_rata(x)\n",
    "        "
   ]
  }
 ],
 "metadata": {
  "kernelspec": {
   "display_name": "Python 3",
   "language": "python",
   "name": "python3"
  },
  "language_info": {
   "codemirror_mode": {
    "name": "ipython",
    "version": 3
   },
   "file_extension": ".py",
   "mimetype": "text/x-python",
   "name": "python",
   "nbconvert_exporter": "python",
   "pygments_lexer": "ipython3",
   "version": "3.7.4"
  }
 },
 "nbformat": 4,
 "nbformat_minor": 2
}
