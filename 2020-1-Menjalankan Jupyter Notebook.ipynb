{
 "cells": [
  {
   "cell_type": "markdown",
   "metadata": {},
   "source": [
    "<div style=\"background-color: #28a745 !important; color: white; min-height: 50px; padding: 10px; margin: auto;\">\n",
    "    <p style=\"text-align: right; font-style: italic\">Praktikum Metode Komputasi</p>\n",
    "    <h1>Instalasi Miniconda dan Jupyter Notebook</h1>\n",
    "</div>\n",
    "<div style=\"background-color: whitesmoke; padding: 10px \">\n",
    "    <ul>\n",
    "        <li>Praktikum Metode Komputasi</li>\n",
    "        <li>Pertemuan: 1</li>\n",
    "        <li>Waktu: Jumat, 6 Maret 2020</li>\n",
    "    </ul>\n",
    "</div>"
   ]
  },
  {
   "cell_type": "markdown",
   "metadata": {},
   "source": [
    "## 1. Dimana kita akan menjalankan Python? Command-line vs IDE\n",
    "\n",
    "Ada banyak cara dalam menjalankan bahasa pemrograman Python, seperti melalui *command-line*: Anaconda Prompt, Command Promt, dan Unix Shell, atau melalui *Integrated Development Environment* (IDE): PyCharm, Spyder, VSCode, dll. IDE menawarkan Code Editor dan Interpreter yang bersamaan sehingga lebih mudah dalam menjalankan program, kita tidak perlu menulis program dan menjalankannya dalam dua aplikasi yang berbeda.\n",
    "\n",
    "Contoh menjalankan Python dalam Pycharm ([realpython.com](realpython.com)):\n",
    "\n",
    "<img src=\"https://files.realpython.com/media/pycharm-running-script.33fb830f45b4.gif\" style=\"width:720px\" alt=\"Pycharm\" title=\"Tampilan saat menjalankan program di PyCharm\">\n",
    "\n",
    ">**Dari gambar di atas ada yang bisa menyebutkan mana yang merupakan code editor dan mana yang merupakan interpreter?**\n",
    "\n",
    "Hal ini tentunya berbeda dengan apabila teman-teman menjalankan Python dari command-line. Command-line hanya bersifat sebagai Interpreter. Apabila teman-teman hendak menulis program maka harus membuka aplikasi Text Editor seperti Notepad, kemudian menjalankannya di Command-Prompt.\n",
    "\n",
    "Pada kasus command-line maka teman-teman menggunakan dua aplikasi berbeda untuk menjalankan Python:\n",
    "1. Notepad Text Editor (sebagai code editor)\n",
    "2. Anaconda-Prompt atau Command Prompt (sebagai interpreter)\n",
    "\n",
    "Selain kurang praktis, Notepad sebagai editor teks bawaan dari Windows juga tidak mendukung syntax-highlighting, yaitu pewarnaan kode Python berdasarkan fungsi dan tipenya, coba lihat gambar Pycharm di atas, spot the difference? ;)\n",
    "\n",
    "Contoh syntax highlighting:\n",
    "```Python\n",
    "print(\"Hello World\")\n",
    "```\n",
    "Setelah tau dua macam cara menjalankan Python,\n",
    ">**Jadi mana yang akan kita gunakan? Command-line atau IDE?**\n",
    "\n",
    "> _Kita akan menggunakan Jupyter Notebook (lah?)_ \n"
   ]
  },
  {
   "cell_type": "markdown",
   "metadata": {},
   "source": [
    "## 2. Apakah Conda? Mengapa kita harus menggunakannnya?\n",
    "\n",
    "Sebelum menginstall Jupyter Notebook kita lebih dahulu harus menginstall Conda. Conda adalah aplikasi untuk manajemen paket (packages) dan environment untuk Python. Bingung? Gapapa :D\n",
    "\n",
    "Anaconda dapat membantu kita mengelola paket-paket Python yang kita gunakan, paket-paket tersebut banyak sekali macamnya dan memiliki kegunaan masing-masing (kita akan mempelajarinya nanti :D ). Beberapa contoh paket yang paling sering digunakan seperti Numpy, Scipy, dan Matplotlib.\n",
    "\n",
    "Untuk menginstall Conda kita dapat menggunakan link berikut [Download Anaconda!](https://docs.conda.io/projects/conda/en/latest/user-guide/install/windows.html)\n",
    "Ada dua macam installer Conda, yaitu:\n",
    "1. Anaconda, versi Conda yang lebih lengkap dari segi fitur dan paket yang dibawa.\n",
    "2. Miniconda, versi Conda mini yang tidak selengkap Anaconda.\n",
    "\n",
    "Pada praktikum ini kita akan menggunakan Miniconda dengan Python versi 3.7. Silahkan teman-teman dapat mendownload tergantung laptop masing-masing, 64 atau 32 bit :D\n",
    "\n",
    "Setelah itu lakukan instalasi:\n",
    "\n",
    "<img src=\"material/path-env.png\" style=\"width:640px\" alt=\"PATH Environment Option\" title=\"Tampilan saat instalasi Miniconda, opsi untuk memasukkan conda ke PATH Environment\">\n",
    "\n",
    "Pada menu instalasi teman-teman bisa memperhatikan ada salah satu opsi untuk menambah Anaconda pada PATH Environment di Windows (`Add Anaconda to my PATH environment variable`), yang secara default tidak dicentang. Untuk instalasi ini kita belum akan memasukkan Anaconda di PATH Environment Windows sehingga opsi tersebut tetap tidak kita centang. Apabila instalasi selesai teman-teman dapat membuka Anaconda Prompt dari Start Menu dan coba mengetikkan perintah `$ conda info`.\n",
    "\n",
    "Apabila instalasi benar maka akan muncul versi dari Conda namun apabila instalasi belum benar maka akan muncul:\n",
    "\n",
    "`conda is not recognized as internal or external command`\n",
    "\n",
    "Nah hal ini disebabkan karena perintah/*command* `conda` belum dikenal oleh Windows. Cara mengenalkannya akan kita praktekkan pada pertemuan ini :D"
   ]
  },
  {
   "cell_type": "markdown",
   "metadata": {},
   "source": [
    "## 3. Jupyter Notebook, Mengapa?\n",
    "\n",
    "Untuk menginstall Jupyter Notebook kita dapat menggunakan perintah `conda install -c conda-forge notebook` pada Anaconda Prompt. Pada perintah ini kita memanggil `conda` untuk meng-`install` paket `notebook` melalui channel (`-c`) `conda-forge`. \n",
    "\n",
    "Perintah `conda install [nama paket]` biasa kita gunakan untuk menginstall paket-paket yang nantinya akan kita gunakan.\n",
    "\n",
    "Setelah instalasi selesai kita dapat menjalankan Jupyter Notebook melalui perintah `jupyter-notebook` di Anaconda Prompt.\n",
    "\n",
    "![Jupyter Notebook](material/notebook.png)\n",
    "\n",
    "Untuk memulai menjalankan Python kita dapat memilih menu `New` kemudian `Python 3`, akan keluar tampilan seperti di bawah:\n",
    "\n",
    "![Jupyter Notebook new notebook](material/notebook-new.png)\n",
    "\n",
    "### Mengapa menggunakan Jupyter Notebook?\n",
    "Jupyter Notebook kita gunakan karena selain dapat menjalankan program Python kita juga dapat menambahkan catatan dalam 'notebook' ini. Untuk menjalankan kode kita, kita dapat menulisnya di tiap cell kemdCatatan dapat kita tambahkan menggunakan bahasa Markdown dan apabila dibutuhkan juga dapat menggunakan HTML. Jupyter Notebook juga mendukung MathJax sehingga kita dapat menuliskan persamaan matematika seperti pada LaTEX. Untuk mengganti mode penulisan dari Python ke Markdown kita dapat menggunakan menu `Cell` kemudian `Markdown` dan begitupun sebaliknya.\n",
    "\n",
    "Beberapa contoh syntax untuk formatting di Markdown adalah sebagai berikut:\n",
    "\n",
    "#### Bold dan Italic\n",
    "Untuk menulis huruf tebal dapat menggunakan `**teks tebal**` sementara untuk teks miring dapat menggunakan `*teks miring*`. Contoh **teks tebal** dan *teks miring* sedangkan ini ***teks tebal miring***.\n",
    "\n",
    "#### Heading\n",
    "Heading menggunakan syntax `# Teks`, jumlah tanda pagar menunjukkan tingkat highlight. Syntax `### Heading Level 3` akan membuat\n",
    "### Heading Level 3. \n",
    "\n",
    "Lebih lengkap teman-teman dapat *googling* dengan keyword 'Markdown tutorial' :D\n",
    "Pada praktikum ini kita akan coba macam-macam fitur markdown."
   ]
  },
  {
   "cell_type": "code",
   "execution_count": null,
   "metadata": {},
   "outputs": [],
   "source": []
  }
 ],
 "metadata": {
  "kernelspec": {
   "display_name": "Python 3",
   "language": "python",
   "name": "python3"
  },
  "language_info": {
   "codemirror_mode": {
    "name": "ipython",
    "version": 3
   },
   "file_extension": ".py",
   "mimetype": "text/x-python",
   "name": "python",
   "nbconvert_exporter": "python",
   "pygments_lexer": "ipython3",
   "version": "3.7.4"
  }
 },
 "nbformat": 4,
 "nbformat_minor": 2
}
