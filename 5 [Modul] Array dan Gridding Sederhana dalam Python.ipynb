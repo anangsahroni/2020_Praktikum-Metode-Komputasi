{
 "cells": [
  {
   "cell_type": "markdown",
   "metadata": {},
   "source": [
    "<div style=\"background-color: #28a745 !important; color: white; min-height: 50px; padding: 10px; margin: auto;\">\n",
    "    <p style=\"text-align: right; font-style: italic\">Praktikum Metode Komputasi-5</p>\n",
    "    <h1> Array dan Gridding Sederhana dalam Python</h1>\n",
    "</div>\n",
    "<div style=\"background-color: whitesmoke; padding: 10px \">\n",
    "    <ul>\n",
    "        <li>Tujuan: Memperkenalkan aplikasi array dalam Python untuk Geofisika</li>\n",
    "        <li>Keluaran: Mahasiswa dapat memahami tentang 2D array dan penggunaannya dalam Geofisika</li>\n",
    "        <li>Pertemuan: 5</li>\n",
    "        <li>Waktu/Tempat: Jumat, 18 April 2020/ Youtube</li>\n",
    "    </ul>\n",
    "</div>"
   ]
  },
  {
   "cell_type": "markdown",
   "metadata": {},
   "source": [
    "## 1. Mendalami `meshgrid`\n",
    "Kita akan mencoba mempraktekkan mengenai grid seperti pada ilustrasi di bawah ini (sumber: [python-course.eu](http://python-course.eu)). Fungsi `meshgrid` berguna untuk membuat titik teratur yang didapatkan dari 2 buah array 1 Dimensi. Maksudnya gimana? bisa dilihat di bawah ini.\n",
    "\n",
    "Misalkan kita memiliki dua buah array 1 D:"
   ]
  },
  {
   "cell_type": "code",
   "execution_count": 6,
   "metadata": {},
   "outputs": [
    {
     "name": "stdout",
     "output_type": "stream",
     "text": [
      "x0= [1 2 3 4]\n",
      "y0= [2 4 6 8]\n"
     ]
    }
   ],
   "source": [
    "import numpy as np\n",
    "\n",
    "x0 = np.array([1,2,3,4])\n",
    "y0 = np.array([2,4,6,8])\n",
    "\n",
    "print(\"x0=\", x0)\n",
    "print(\"y0=\", y0)"
   ]
  },
  {
   "cell_type": "markdown",
   "metadata": {},
   "source": [
    "Oke sebelum mulai memakai `meshgrid` ada baiknya kita coba buka `help` atau bantuannya dulu:"
   ]
  },
  {
   "cell_type": "code",
   "execution_count": 7,
   "metadata": {
    "scrolled": true
   },
   "outputs": [
    {
     "name": "stdout",
     "output_type": "stream",
     "text": [
      "Help on function meshgrid in module numpy:\n",
      "\n",
      "meshgrid(*xi, **kwargs)\n",
      "    Return coordinate matrices from coordinate vectors.\n",
      "    \n",
      "    Make N-D coordinate arrays for vectorized evaluations of\n",
      "    N-D scalar/vector fields over N-D grids, given\n",
      "    one-dimensional coordinate arrays x1, x2,..., xn.\n",
      "    \n",
      "    .. versionchanged:: 1.9\n",
      "       1-D and 0-D cases are allowed.\n",
      "    \n",
      "    Parameters\n",
      "    ----------\n",
      "    x1, x2,..., xn : array_like\n",
      "        1-D arrays representing the coordinates of a grid.\n",
      "    indexing : {'xy', 'ij'}, optional\n",
      "        Cartesian ('xy', default) or matrix ('ij') indexing of output.\n",
      "        See Notes for more details.\n",
      "    \n",
      "        .. versionadded:: 1.7.0\n",
      "    sparse : bool, optional\n",
      "        If True a sparse grid is returned in order to conserve memory.\n",
      "        Default is False.\n",
      "    \n",
      "        .. versionadded:: 1.7.0\n",
      "    copy : bool, optional\n",
      "        If False, a view into the original arrays are returned in order to\n",
      "        conserve memory.  Default is True.  Please note that\n",
      "        ``sparse=False, copy=False`` will likely return non-contiguous\n",
      "        arrays.  Furthermore, more than one element of a broadcast array\n",
      "        may refer to a single memory location.  If you need to write to the\n",
      "        arrays, make copies first.\n",
      "    \n",
      "        .. versionadded:: 1.7.0\n",
      "    \n",
      "    Returns\n",
      "    -------\n",
      "    X1, X2,..., XN : ndarray\n",
      "        For vectors `x1`, `x2`,..., 'xn' with lengths ``Ni=len(xi)`` ,\n",
      "        return ``(N1, N2, N3,...Nn)`` shaped arrays if indexing='ij'\n",
      "        or ``(N2, N1, N3,...Nn)`` shaped arrays if indexing='xy'\n",
      "        with the elements of `xi` repeated to fill the matrix along\n",
      "        the first dimension for `x1`, the second for `x2` and so on.\n",
      "    \n",
      "    Notes\n",
      "    -----\n",
      "    This function supports both indexing conventions through the indexing\n",
      "    keyword argument.  Giving the string 'ij' returns a meshgrid with\n",
      "    matrix indexing, while 'xy' returns a meshgrid with Cartesian indexing.\n",
      "    In the 2-D case with inputs of length M and N, the outputs are of shape\n",
      "    (N, M) for 'xy' indexing and (M, N) for 'ij' indexing.  In the 3-D case\n",
      "    with inputs of length M, N and P, outputs are of shape (N, M, P) for\n",
      "    'xy' indexing and (M, N, P) for 'ij' indexing.  The difference is\n",
      "    illustrated by the following code snippet::\n",
      "    \n",
      "        xv, yv = np.meshgrid(x, y, sparse=False, indexing='ij')\n",
      "        for i in range(nx):\n",
      "            for j in range(ny):\n",
      "                # treat xv[i,j], yv[i,j]\n",
      "    \n",
      "        xv, yv = np.meshgrid(x, y, sparse=False, indexing='xy')\n",
      "        for i in range(nx):\n",
      "            for j in range(ny):\n",
      "                # treat xv[j,i], yv[j,i]\n",
      "    \n",
      "    In the 1-D and 0-D case, the indexing and sparse keywords have no effect.\n",
      "    \n",
      "    See Also\n",
      "    --------\n",
      "    index_tricks.mgrid : Construct a multi-dimensional \"meshgrid\"\n",
      "                     using indexing notation.\n",
      "    index_tricks.ogrid : Construct an open multi-dimensional \"meshgrid\"\n",
      "                     using indexing notation.\n",
      "    \n",
      "    Examples\n",
      "    --------\n",
      "    >>> nx, ny = (3, 2)\n",
      "    >>> x = np.linspace(0, 1, nx)\n",
      "    >>> y = np.linspace(0, 1, ny)\n",
      "    >>> xv, yv = np.meshgrid(x, y)\n",
      "    >>> xv\n",
      "    array([[0. , 0.5, 1. ],\n",
      "           [0. , 0.5, 1. ]])\n",
      "    >>> yv\n",
      "    array([[0.,  0.,  0.],\n",
      "           [1.,  1.,  1.]])\n",
      "    >>> xv, yv = np.meshgrid(x, y, sparse=True)  # make sparse output arrays\n",
      "    >>> xv\n",
      "    array([[0. ,  0.5,  1. ]])\n",
      "    >>> yv\n",
      "    array([[0.],\n",
      "           [1.]])\n",
      "    \n",
      "    `meshgrid` is very useful to evaluate functions on a grid.\n",
      "    \n",
      "    >>> import matplotlib.pyplot as plt\n",
      "    >>> x = np.arange(-5, 5, 0.1)\n",
      "    >>> y = np.arange(-5, 5, 0.1)\n",
      "    >>> xx, yy = np.meshgrid(x, y, sparse=True)\n",
      "    >>> z = np.sin(xx**2 + yy**2) / (xx**2 + yy**2)\n",
      "    >>> h = plt.contourf(x,y,z)\n",
      "    >>> plt.show()\n",
      "\n"
     ]
    }
   ],
   "source": [
    "help(np.meshgrid)"
   ]
  },
  {
   "cell_type": "markdown",
   "metadata": {},
   "source": [
    "Oke mari kita coba menggunakan `meshgrid` dan kita lihat apa yang kita dapatkan :D"
   ]
  },
  {
   "cell_type": "code",
   "execution_count": 8,
   "metadata": {},
   "outputs": [
    {
     "name": "stdout",
     "output_type": "stream",
     "text": [
      "X0 = \n",
      " [[1 2 3 4]\n",
      " [1 2 3 4]\n",
      " [1 2 3 4]\n",
      " [1 2 3 4]] \n",
      "X0 shape = (4, 4)\n",
      "\n",
      "Y0 =\n",
      " [[2 2 2 2]\n",
      " [4 4 4 4]\n",
      " [6 6 6 6]\n",
      " [8 8 8 8]] \n",
      "X0 shape = (4, 4)\n"
     ]
    }
   ],
   "source": [
    "X0, Y0 = np.meshgrid(x0, y0)\n",
    "print(\"X0 = \\n\", X0, \"\\nX0 shape =\", X0.shape)\n",
    "print(\"\\nY0 =\\n\", Y0, \"\\nX0 shape =\", Y0.shape)"
   ]
  },
  {
   "cell_type": "markdown",
   "metadata": {},
   "source": [
    "Dari contoh di atas kita mendapatkan matriks atau Array 2D masing-masing untuk `X0` dan `Y0`. Apabila teman-teman cermati maka menimbulkan tanda tanya hehe, kok bisa ya jadi seperti itu?\n",
    "\n",
    "Nah untuk itu kita bisa mencoba menggambarkan apa yang terjadi menggunakan matplotlib. Disini saya menggunakan `nol_palsu` maksudnya untuk digunakan sebagai koordinat di x=0 untuk `y0` dan y=0 untuk `x0`, jadi hanya sebagai bantuan visualisasi saja. Kita akan bandingkan hasil plot masing-masing untuk `x0` `y0` dan `X0` `Y0`."
   ]
  },
  {
   "cell_type": "code",
   "execution_count": 48,
   "metadata": {},
   "outputs": [
    {
     "data": {
      "image/png": "[encoded data removed]",
      "text/plain": [
       "<Figure size 432x288 with 1 Axes>"
      ]
     },
     "metadata": {
      "needs_background": "light"
     },
     "output_type": "display_data"
    }
   ],
   "source": [
    "import matplotlib.pyplot as plt #import matplotlib untuk mengeplot\n",
    "\n",
    "nol_palsu = np.array([0,0,0,0]) #data buatan hanya untuk visualisasi\n",
    "\n",
    "plt.scatter(X0, Y0) #1. plot hasil meshgrid\n",
    "#plt.scatter(x0, nol_palsu) # 2. plot array x0\n",
    "#plt.scatter(nol_palsu, y0, label=\"nol\") # 3. plot array y0\n",
    "plt.show()"
   ]
  },
  {
   "cell_type": "markdown",
   "metadata": {},
   "source": [
    "Nah dari gambar di atas seharusnya sudah mulai paham, kalo belum bisa lihat video youtube karena ada penjelasan disitu. Jadi maksudnya adalah titik biru merupakan hasil `meshgrid` yang membentuk titik-titik teratur yang berdasarkan dari `x0` dan `y0` kita tadi. Salah satu penjelasan yang bagus dapat kita dapatkan di web [python-course.eu](https://www.python-course.eu/matplotlib_contour_plot.php). Dan beginilah penggambarannya, akan kita ulangi sekali lagi dengan contoh dari web ini :D"
   ]
  },
  {
   "cell_type": "markdown",
   "metadata": {},
   "source": [
    "<img src=\"https://www.python-course.eu/images/creating_a_meshgrid.png\" width=500px title=\"how meshgrid works (python-course.eu\">\n"
   ]
  },
  {
   "cell_type": "markdown",
   "metadata": {},
   "source": [
    "Dari gambar di atas kita dapat melihat bahwa untuk `xlist` nilai akan diduplikasi menjadi 4 baris, mengapa? karena menyesuaikan jumlah anggota dari `ylist` yang ada 4 (-3,-1,1,3), sedangkan `ylist` akan ditranspose dulu menjadi \"berdiri\" kemudian diduplikasi 3 kali menyesuaikan jumlah anggota `xlist`. Nah apabila digabungkan maka membentuk koorinat yang bentuknya adalah 3x4, masing-masing dari jumlah anggota `xlist` dan `ylist`.\n",
    "\n",
    "Oke mari kita praktekkan :D"
   ]
  },
  {
   "cell_type": "code",
   "execution_count": 44,
   "metadata": {},
   "outputs": [],
   "source": [
    "xlist = np.linspace(-3, 3, 3)\n",
    "ylist = np.linspace(-3, 3, 4)\n",
    "Xlist, Ylist = np.meshgrid(xlist, ylist)"
   ]
  },
  {
   "cell_type": "code",
   "execution_count": 49,
   "metadata": {},
   "outputs": [
    {
     "name": "stdout",
     "output_type": "stream",
     "text": [
      "XList = \n",
      " [[-3.  0.  3.]\n",
      " [-3.  0.  3.]\n",
      " [-3.  0.  3.]\n",
      " [-3.  0.  3.]] \n",
      "Xlist shape = (4, 3)\n",
      "\n",
      "Ylist =\n",
      " [[-3. -3. -3.]\n",
      " [-1. -1. -1.]\n",
      " [ 1.  1.  1.]\n",
      " [ 3.  3.  3.]] \n",
      "Xlist shape = (4, 3)\n"
     ]
    }
   ],
   "source": [
    "print(\"XList = \\n\", Xlist, \"\\nXlist shape =\", Xlist.shape)\n",
    "print(\"\\nYlist =\\n\", Ylist, \"\\nXlist shape =\", Ylist.shape)"
   ]
  },
  {
   "cell_type": "code",
   "execution_count": 52,
   "metadata": {},
   "outputs": [
    {
     "data": {
      "image/png": "[encoded data removed]",
      "text/plain": [
       "<Figure size 432x288 with 1 Axes>"
      ]
     },
     "metadata": {
      "needs_background": "light"
     },
     "output_type": "display_data"
    }
   ],
   "source": [
    "plt.scatter(Xlist, Ylist)\n",
    "plt.scatter(0,0, color=\"red\")\n",
    "plt.show()"
   ]
  },
  {
   "cell_type": "markdown",
   "metadata": {},
   "source": [
    "## 2. Membuat kontur sederhana\n",
    "Pada kasus ini saya membuat 2D array baru berupa nilai jarak dari titik (0,0), dengan rumus jarak seperti biasanya."
   ]
  },
  {
   "cell_type": "code",
   "execution_count": 53,
   "metadata": {},
   "outputs": [],
   "source": [
    "Jarak = np.sqrt((Xlist-0)**2 + (Ylist-0)**2)"
   ]
  },
  {
   "cell_type": "markdown",
   "metadata": {},
   "source": [
    "Mengapa kita membuat `Jarak`? Karena kita akan menggunakan nilai tersebut untuk membuat kontur yang nilainya merupakan jarak setiap titik terhadap koordinat (0,0).\n",
    "\n",
    "Nah untuk membuat kontur kita membutuhkan koordinat teratur (grid), makanya tadi kita membuat grid dulu menggunakan `meshgrid`. Fungsi untuk mengeplot kontur sendiri ada beberapa di Python, bisa menggunakan `contour` ataupun `contourf`."
   ]
  },
  {
   "cell_type": "code",
   "execution_count": 66,
   "metadata": {},
   "outputs": [
    {
     "data": {
      "image/png": "[encoded data removed]",
      "text/plain": [
       "<Figure size 432x288 with 2 Axes>"
      ]
     },
     "metadata": {
      "needs_background": "light"
     },
     "output_type": "display_data"
    }
   ],
   "source": [
    "import matplotlib.pyplot as plt\n",
    "import matplotlib.cm as cm #color map\n",
    "\n",
    "plt.xlim(-4,4) #batas gambar untuk sumbu x\n",
    "plt.ylim(-4,4) #batas gambar untuk sumbu y\n",
    "\n",
    "plt.contourf(Xlist,Ylist,Jarak, cmap=cm.coolwarm) # plot kontur\n",
    "\n",
    "plt.colorbar() # plot skala warna\n",
    "plt.scatter(Xlist,Ylist, color=\"black\") #plot titik data\n",
    "plt.scatter(0,0, color=\"magenta\")\n",
    "plt.show()"
   ]
  },
  {
   "cell_type": "markdown",
   "metadata": {},
   "source": [
    "## 3. Membuat sayatan dari kontur\n",
    "Nah di bawah ini kita akan memanfaatkan numpy untuk membuat sayatan barat-timur dari peta di atas. Kita akan memilih sayatan di y=-1. Bagaimana caranya?\n",
    "\n",
    "Caranya adalah mengambil data `Xlist` dan `Ylist` pada nilai y=-1 memanfaatkan indeksing pada array. Dapat dilihat pada gambar di atasnya lagi tentang konsep meshgrid. Dari gambar di atas maka kita perlu mengambil koordinat (-3,-1), (0,-1), dan (3,-1). Koordinat x yang kita butuhkan berarti adalah (-3, 0, 3) sedangkan oordinat y yang dibutuhkan adalah (-1,-1,-1). Nah kita tinggal cocokkan kedua nilai tersebut dengan indeks dari array `Xlist` dan `Ylist`.\n",
    "\n",
    "Kita coba lihat nilai `Xlist`:\n",
    "```python\n",
    "Xlist = \n",
    " [[-3.  0.  3.]\n",
    " [-3.  0.  3.]\n",
    " [-3.  0.  3.]\n",
    " [-3.  0.  3.]] \n",
    "```\n",
    "Nah kita pasti bingung, terus kita harus ambil yang mana ya? Karena semuanya sama hahahahah. Okee kita bisa ambil baris dimana nilai y=-1. Untuk itu kita lihat dahulu saja untuk `Ylist`.\n",
    "\n",
    "```python\n",
    "Ylist =\n",
    " [[-3. -3. -3.]\n",
    " [-1. -1. -1.]\n",
    " [ 1.  1.  1.]\n",
    " [ 3.  3.  3.]] \n",
    "```\n",
    "\n",
    "Nah disini jelas bahwa kita perlu mengambil baris kedua, atau indeks 1. Untuk itu di `Xlist` yang kita ambil adalah indeks 1 juga.\n",
    "\n",
    "Jadinya seperti ini:\n",
    "```python\n",
    "\n",
    "Xlist[1,:]\n",
    "```\n",
    "dan\n",
    "```python\n",
    "Ylist[1,:]\n",
    "```\n",
    "\n",
    "Maksudnya adalah kita mengambil baris kedua (indeks dimulai dari 0), dari baris kedua tersebut kita ambil semua bagiannya (`:`). Masih ingat? heheeh\n",
    "\n",
    "Untuk mengeplotnya pakailah fungsi:\n",
    "```python\n",
    "plt.plot(Xlist[1,:], Ylist[1,:], color=\"blue\")\n",
    "```"
   ]
  },
  {
   "cell_type": "code",
   "execution_count": 67,
   "metadata": {},
   "outputs": [
    {
     "data": {
      "text/plain": [
       "[<matplotlib.lines.Line2D at 0x7f2eab80fe10>]"
      ]
     },
     "execution_count": 67,
     "metadata": {},
     "output_type": "execute_result"
    },
    {
     "data": {
      "image/png": "[encoded data removed]",
      "text/plain": [
       "<Figure size 432x288 with 2 Axes>"
      ]
     },
     "metadata": {
      "needs_background": "light"
     },
     "output_type": "display_data"
    }
   ],
   "source": [
    "plt.xlim(-4,4) #batas gambar untuk sumbu x\n",
    "plt.ylim(-4,4) #batas gambar untuk sumbu y\n",
    "plt.contourf(Xlist,Ylist,Jarak, cmap=cm.coolwarm) # plot kontur\n",
    "plt.colorbar(cmap=cm.coolwarm) # plot skala warna\n",
    "\n",
    "\n",
    "plt.scatter(Xlist,Ylist, color=\"black\") #plot titik data\n",
    "plt.scatter(0,0, color=\"m\")\n",
    "\n",
    "# Nah disini kita masukkan plotnya.\n",
    "plt.plot(Xlist[1,:], Ylist[1,:], color=\"blue\")#plot garis"
   ]
  },
  {
   "cell_type": "markdown",
   "metadata": {},
   "source": [
    "Nah pada gambar di atas kita sudah berhasil mengeplot garis sayatan berwarna biru, untuk menyayat timur-barat pada y=-1.\n",
    "\n",
    "Nah dibawah ini kita akan ambil nilai dari jaraknya untuk grafik sayatannya, caranya simpel. Kita tinggal mengambil nilai `Jarak` dengan indeks sama dengan saat kita mengambil `Xlist` dan `Ylist` yaitu:\n",
    "\n",
    "```python\n",
    "Jarak[1,:]\n",
    "```\n",
    "\n",
    "Nah selanjutnya kita plot sayatannya, karena pada sayatan barat-timur, maka kita hanya perlu nilai `Xlist` saja sebgai sumbu X."
   ]
  },
  {
   "cell_type": "code",
   "execution_count": 19,
   "metadata": {},
   "outputs": [
    {
     "data": {
      "image/png": "[encoded data removed]",
      "text/plain": [
       "<Figure size 432x288 with 1 Axes>"
      ]
     },
     "metadata": {
      "needs_background": "light"
     },
     "output_type": "display_data"
    }
   ],
   "source": [
    "plt.plot(Xlist[1,:], Jarak[1,:])\n",
    "plt.show()"
   ]
  },
  {
   "cell_type": "markdown",
   "metadata": {},
   "source": [
    "Nah agar lebih jelas kita bisa sandingkan antara kontur dengan grafik di atas menggunakan `subplot` dari `matplotlib`."
   ]
  },
  {
   "cell_type": "code",
   "execution_count": 71,
   "metadata": {},
   "outputs": [
    {
     "data": {
      "image/png": "[encoded data removed]",
      "text/plain": [
       "<Figure size 432x288 with 2 Axes>"
      ]
     },
     "metadata": {
      "needs_background": "light"
     },
     "output_type": "display_data"
    }
   ],
   "source": [
    "plt.subplot(2,1,1)\n",
    "plt.xlim(-4,4) #batas gambar untuk sumbu x\n",
    "plt.ylim(-4,4) #batas gambar untuk sumbu y\n",
    "plt.contourf(Xlist,Ylist,Jarak, cmap=cm.coolwarm) # plot kontur\n",
    "plt.scatter(Xlist,Ylist, color=\"black\") #plot titik data\n",
    "# Nah disini kita masukkan plotnya.\n",
    "plt.plot(Xlist[1,:], Ylist[1,:], color=\"blue\")#plot garis\n",
    "\n",
    "\n",
    "plt.subplot(2,1,2)\n",
    "plt.plot(Xlist[1,:], Jarak[1,:])\n",
    "plt.xlim(-4,4) #batas gambar untuk sumbu x\n",
    "plt.ylim(-4,4) #batas gambar untuk sumbu y\n",
    "\n",
    "plt.show()\n"
   ]
  },
  {
   "cell_type": "markdown",
   "metadata": {},
   "source": [
    "Selamat kita sudah berhasil, tampilanya masih aneh tapi sementara seperti ini dulu saja :D\n",
    "\n",
    "Sedikit penjelasan mengenai `subplot`:\n",
    "Fungsi ini berguna untuk membuat plot yang berisi beberapa plot. Pada fungsi di atas terdapat dua baris dan 1 kolom plot, oleh karena itu di `subplot` kita masukkan dua angka pertama yaitu 2 dan 1 yang masing-masing mewakili jumlah baris dan kolom. Angka terakhir merupakan urutan dari plotnya.\n",
    "\n",
    "![sayatan 2](./material/contoh5.png)"
   ]
  },
  {
   "cell_type": "markdown",
   "metadata": {},
   "source": [
    "## 4. Contoh aplikasinya di Geofisika"
   ]
  },
  {
   "cell_type": "markdown",
   "metadata": {},
   "source": [
    "Nah disini kita menggunakan contoh pada penghitungan nilai gravitasi di suatu wilayah yang disebabkan oleh adanya benda berbentuk bola dengan jari-jari, densitas, koordinat, dan kedalaman tertentu. Contoh disini saya ambil dari modul Pak Wiwit tentang kuliah Metkom, selengkapnya disini: [Modul Kuliah Metode Komputasi](https://github.com/maswiet/Kuliah_Metode_Komputasi).\n",
    "\n",
    "![bola](./material/bola.png)\n",
    "\n",
    "Rumus untuk menghitung pengaruh dari bola tersebut adalah:\n",
    "\n",
    "<img src=\"https://latex.codecogs.com/svg.latex?\\Large&space;\\vec{g}(F_1)=-\\gamma \\frac{\\frac{4}{3} \\pi a^2 \\rho}{R^2}\\hat{r}\" title=\"\\Large x=\\frac{-b\\pm\\sqrt{b^2-4ac}}{2a}\" />\n",
    "\n",
    "\n",
    "Tenang tidak usah panik hehe, rumusnya tinggal kita pakai saja dan kita masuk-masukkan nilai parameternya.\n",
    "\n",
    "### 4.1 Mengimpor modul dan membuat konstanta-konstanta yang diperlukan"
   ]
  },
  {
   "cell_type": "code",
   "execution_count": 23,
   "metadata": {},
   "outputs": [],
   "source": [
    "#```--------Program menghitung gaya tarik gravitasi-------------------```\n",
    "#```               benda berbentuk bola                              ```\n",
    "#```------------------------------------------------------------------```\n",
    "import math\n",
    "import matplotlib.pyplot as plt\n",
    "from mpl_toolkits import mplot3d\n",
    "from mpl_toolkits.mplot3d import Axes3D\n",
    "from matplotlib import cm\n",
    "import numpy as np\n",
    "\n",
    "gamma = 6.6E-11 # konstanta gravitasi\n",
    "si2mg = 1.0E5 # konversi satuan\n",
    "pi = 3.14159265 # phi\n",
    "km2m = 1e3 # konversi satuan\n",
    "ierror = 0"
   ]
  },
  {
   "cell_type": "markdown",
   "metadata": {},
   "source": [
    "Selanjutnya kita membuat fungsinya sesuai dengan rumus di atas:"
   ]
  },
  {
   "cell_type": "code",
   "execution_count": 24,
   "metadata": {},
   "outputs": [],
   "source": [
    "def bola(xq,yq,zq,a,rho,xp,yp,zp):\n",
    "    #``` titik pengamatan terletak pada koordinat (xp,yp,zp), sementara pusat bola adalah di (xq,yq,zq). Jari-jari bola adalah a\n",
    "    #``` dan densitas adalah rho. Densitas satuannya kg/m^3, jarak dalam km\n",
    "    \n",
    "    rx = xp - xq # jarak pengamat dan bola di sumbu x\n",
    "    ry = yp - yq # jarak pengamat dan bola di sumbu y\n",
    "    rz = zp - zq# jarak pengamat dan bola di sumbu z\n",
    "    \n",
    "    # menghitung jarak menggunakan persamaan Pythagoras\n",
    "    r = math.sqrt(math.pow(rx,2)+math.pow(ry,2)+math.pow(rz,2))\n",
    "    \n",
    "    # apabila jarak=0 maka dibuat fungsi error\n",
    "    if r == 0:\n",
    "        print(\"R-nya nol, ubah kedalaman!\")\n",
    "    \n",
    "    #jarak pangkat 3\n",
    "    r3 = math.pow(r,3)\n",
    "    \n",
    "    # menghitung total mass\n",
    "    tmass = 4.0 * pi * rho * (math.pow(a,2))/3\n",
    "    \n",
    "    # menghitung nilai percepatan gravitasi pada masing-masing komponen\n",
    "    gx = -gamma * tmass * rx/r3\n",
    "    gy = -gamma * tmass * ry/r3\n",
    "    gz = -gamma * tmass * rz/r3\n",
    "    \n",
    "    # konversi satuan\n",
    "    gx = gx * si2mg * km2m\n",
    "    gy = gy * si2mg * km2m\n",
    "    gz = gz * si2mg * km2m\n",
    "    \n",
    "    return gx, gy, gz"
   ]
  },
  {
   "cell_type": "markdown",
   "metadata": {},
   "source": [
    "Selanjutnya kita gunakan looping untuk menghitung nilai `g`. Sebelumnya kita membuat persebaran data pengukuran di pengamat atau membuat grid seperti tadi, menggunakan:\n",
    "\n",
    "```python\n",
    "x = np.linspace(-50,50,100)\n",
    "y = np.linspace(-50,50,100)\n",
    "X,Y = np.meshgrid(x,y)\n",
    "```\n",
    "\n",
    "Pada fungsi di atas kita membuat persebaran koordinat teratur dari nilai -50 sampai 50 dengan jumlah data 100. Oleh karena itu maka apabila dibuat grid menggunakan `meshgrid` maka ukuran `X`, `Y` adalah 100x100.\n",
    "\n",
    "Setelah itu kita membuat array yang berisi 0 dengan ukuran 100x100 yang nanti akan kita isi dengan nilai `gz` menggunakan:\n",
    "\n",
    "```python\n",
    "G=np.zeros((100,100))\n",
    "```\n",
    "\n",
    "Langkah terakhir adalah melakukan `looping` dari 0-100 pada masing-masing indeks `i` dan `j` untuk menghitung nilai `G`. Ini dicermati pelan-pelan gapapa hehe :D. Nah nilai gz yang kemudian kita masukkan di matriks `G` yang tadi semula berisi 0."
   ]
  },
  {
   "cell_type": "code",
   "execution_count": 25,
   "metadata": {},
   "outputs": [],
   "source": [
    "x = np.linspace(-50,50,100)\n",
    "y = np.linspace(-50,50,100)\n",
    "X,Y = np.meshgrid(x,y)\n",
    "G=np.zeros((100,100))\n",
    "for i in range(100):\n",
    "    for j in range(100):\n",
    "        gx1, gy1, gz1 = bola(20,-20,5,1,2600,X[i,j],Y[i,j],-2)\n",
    "        G[i,j]=gz1"
   ]
  },
  {
   "cell_type": "markdown",
   "metadata": {},
   "source": [
    "Selanjutnya kita plot yuk :D"
   ]
  },
  {
   "cell_type": "code",
   "execution_count": 26,
   "metadata": {
    "scrolled": true
   },
   "outputs": [
    {
     "data": {
      "image/png": "[encoded data removed]",
      "text/plain": [
       "<Figure size 432x288 with 1 Axes>"
      ]
     },
     "metadata": {
      "needs_background": "light"
     },
     "output_type": "display_data"
    }
   ],
   "source": [
    "fig = plt.figure()\n",
    "ax = plt.axes(projection='3d')\n",
    "surf = ax.plot_surface(X, Y, G, cmap=cm.coolwarm,linewidth=0, antialiased=False)\n",
    "\n",
    "plt.show()"
   ]
  },
  {
   "cell_type": "markdown",
   "metadata": {},
   "source": [
    "Waah kerem, eit untuk praktikum ini kita pakai plot 2D dulu saja pakai kontur :D, seperti di bawah ini:"
   ]
  },
  {
   "cell_type": "code",
   "execution_count": 27,
   "metadata": {},
   "outputs": [
    {
     "data": {
      "image/png": "[encoded data removed]",
      "text/plain": [
       "<Figure size 432x288 with 1 Axes>"
      ]
     },
     "metadata": {
      "needs_background": "light"
     },
     "output_type": "display_data"
    }
   ],
   "source": [
    "plt.contourf(X,Y,G, cmap=cm.coolwarm)\n",
    "plt.title(\"Peta Medan Gravitasi karena Bola (zq=5, a=1, rho=3600, zp=-2)\")\n",
    "plt.ylabel(\"Northing\")\n",
    "plt.xlabel(\"Easting\")\n",
    "plt.show()"
   ]
  },
  {
   "cell_type": "markdown",
   "metadata": {},
   "source": [
    "<div style=\"background-color: #ffc107  !important; color: grey; min-height: 50px; padding: 10px; margin: auto;\">\n",
    "    <p style=\"text-align: right; font-style: italic\">Praktikum Metode Komputasi-5</p>\n",
    "    <h1>Tugas 5: Array dan Gridding Sederhana dalam Python</h1>\n",
    "</div>\n",
    "<div style=\"background-color: whitesmoke; padding: 10px; padding-bottom: 0px; \">\n",
    "    <ul>\n",
    "        <li>Praktikum Metode Komputasi</li>\n",
    "        <li>Pertemuan: 5</li>\n",
    "        <li>Format file: Portable Document Format (PDF)</li>\n",
    "        <li>Template:<a href=\"./material/report_template.docx\"> Download Template Laporan</a></li>\n",
    "        <li>Link Pengumpulan: Google Classroom</li>\n",
    "        <li>Format Nama File: 5-[NIM]-Nama, contoh: 5-362705-Anang Sahroni</li>\n",
    "    </ul>\n",
    "</div>\n",
    "<div style=\"background-color: #dc3545; color: white \">\n",
    "    <ul>\n",
    "        <li>Deadline: Minggu, 26 April 2020 17.00 WIB</li>\n",
    "    </ul>\n",
    "</div>"
   ]
  },
  {
   "cell_type": "markdown",
   "metadata": {},
   "source": [
    "Buatlah peta gravitasi seperti di atas tetapi terdapat dua bola kemudian plotlah dalam peta kontur. Setelah itu buatlah sayatan seperti pada gambar di bawah ini. Berilah judul grafik/plot dan kelengkapan grafik yang lainnya.\n",
    "\n",
    "![tugas5](./material/tugas5.png)"
   ]
  },
  {
   "cell_type": "markdown",
   "metadata": {},
   "source": []
  }
 ],
 "metadata": {
  "kernelspec": {
   "display_name": "Python 3",
   "language": "python",
   "name": "python3"
  },
  "language_info": {
   "codemirror_mode": {
    "name": "ipython",
    "version": 3
   },
   "file_extension": ".py",
   "mimetype": "text/x-python",
   "name": "python",
   "nbconvert_exporter": "python",
   "pygments_lexer": "ipython3",
   "version": "3.7.5"
  }
 },
 "nbformat": 4,
 "nbformat_minor": 4
}
