{
 "cells": [
  {
   "cell_type": "markdown",
   "metadata": {},
   "source": [
    "<div style=\"background-color: #dc3545 !important; color: white; min-height: 50px; padding: 10px; margin: auto;\">\n",
    "    <p style=\"text-align: right; font-style: italic\">Praktikum Metode Komputasi-1/p>\n",
    "    <h1>Troubleshooting Error dalam Instalasi Miniconda dan Jupyter Notebook</h1>\n",
    "</div>\n",
    "<div style=\"background-color: whitesmoke; padding: 10px \">\n",
    "    <ul>\n",
    "        <li>Tujuan: Mengatasi error saat instalasi conda/python/jupyter notebook</li>\n",
    "        <li>Keluaran: Mahasiswa dapat mengatasi error saat menginstall conda/python/jupyter notebook</li>\n",
    "        <li>Pertemuan: 1</li>\n",
    "        <li>Waktu/ Tempat: Jumat, 6 Maret 2020/ Ruang G3</li>\n",
    "    </ul>\n",
    "</div>"
   ]
  },
  {
   "cell_type": "markdown",
   "metadata": {},
   "source": [
    "## 1. Perintah `conda` dan `python` tidak dikenali di Command Prompt (cmd)\n",
    "\n",
    "Seperti yang sudah kita bahas dalam pertemuan kemarin bahwa kita harus 'mengenalkan' **conda** dan **python** ke Windows sebelum menjalankannya di Command Prompt. Pesan error yang sering muncul apabila belum 'kenalan' biasanya adalah: \n",
    "1. `'Conda' is not recognized as internal or external command` dan,\n",
    "2. `'python' is not recognized as internal or external command`.\n",
    "\n",
    "Nah sebenarnya dari pesan tersebut kita bisa *googling* dengan keyword pesan error tersebut. Setelah saya coba cari ternyata untuk mengenalkannya kita bisa menggunakan cara dari [Datacamp](https://www.datacamp.com/community/tutorials/installing-anaconda-windows), teman-teman bisa mengikuti step nomor 3 sampai selesai. Kalau ada error seperti itu kita bisa googling pesan errornya, percayalah orang lain pasti pernah mengalaminya dan memberikan solusinya di internet 😁.\n",
    "\n",
    "Caranya sama seperti kemarin, yaitu kita buka **Anaconda Prompt** kemudian ketikkan perintah `where conda` dan `where python` untuk mencari dimana kita menginstall **conda** dan **python**, seperti pada gambar di bawah ini.\n",
    "\n",
    "![where conda](./material/1where_conda_python.JPG \"Perintah untuk mencari dimana instalasi conda dan python\")\n",
    "\n",
    "Nah ada 3 lokasi yang perlu teman-teman cermati yaitu:\n",
    "1. `[folder instalasi]\\Miniconda3\\Library\\bin` yang menjelaskan lokasi library Miniconda (langkah ini kemarin terlewat sehingga menimbulkan error),\n",
    "2. `[folder instalasi]\\Miniconda3\\Scripts` yang menjelaskan dimana lokasi conda.exe, dan\n",
    "3. `[folder instalasi]\\Miniconda3` yang menjelaskan dimana lokasi library python.exe, dan\n",
    "\n",
    "Selanjutnya kita kenalkan **conda** dan **python** dengan Windows (cmd), caranya yaitu memberi tahu Windows dimana lokasi dari dua program tersebut. Caranya masuk ke **Environment Variables**, langkah-langkahnya yaitu:\n",
    "\n",
    "1. Buka **File Explorer** kemudian klik kanan di bagian **This PC** atau **My Computer** selanjutnya pilih menu **Properties**,\n",
    "2. Pilih **Advanced system settings**, akan muncul jendela **System Properties**, \n",
    "3. Selanjutnya pada tab **Advanced** teman-teman bisa memilih **Environment Variables**,\n",
    "4. Pilih **Path** pada **User Variables**, kemudian pilih **Edit..**,\n",
    "![path](./material/1path.JPG \"Jendela Environment Variables\")\n",
    "5. Setelah muncul gambar seperti di bawah, teman-teman pilih **New** dan masukkan 3 lokasi yang tadi kita cermati. Seperti pada contoh ini yaitu pada 3 baris terbawah:\n",
    "![insertloc](./material/1insertloc.JPG \"Jendela Edit Environment Variables\")\n",
    "6. Setelah itu bisa pilih **OK** sebanya 3 kali 😁,\n",
    "7. Untuk mengecek, restart **Command Prompt** kemudian ketikkan `conda --version` maka akan keluar versi `conda`, begitu pula untuk perintah `python --version`.\n",
    "![check install](./material/1checkinstall.JPG \"Check Conda dan Python di CMD\")\n",
    "\n",
    "8. Selamat **conda** dan **python** sudah kenalan dengan **Windows** 😁!. Instalasi **Miniconda** ini sudah termasuk instalasi **Python** ya teman-teman.\n",
    "\n",
    "Tambahan:  \n",
    "Skenario 2.\n",
    "- Apabila di langkah 4 tidak ada pilihan `Path` maka teman-teman dapat membuat sendiri dengan memilih menu **New**, beri nama  **Variable Name** dengan `Path` dan isi **Variable Values** di bawahnya dengan 3 lokasi di atas, dipisahkan dengan tanda semicolon (`;`).  \n",
    "\n",
    "Skenario 3.\n",
    "- Apabila pada langkah 5 tidak muncul dialog box seperti gambar, dan hanya muncul dua isian **Variable Name** dan **Variable Value**, maka pastikan **Variable Name** diisi dengan `Path` dan **Variable Values** diisi dengan tiga lokasi di atas, dengan dipisahkan tanda semicolon (`;`)."
   ]
  },
  {
   "cell_type": "markdown",
   "metadata": {},
   "source": [
    "## 2. Error `You don't appear to have the necessary permissions...` saat instalasi Jupyter Notebook\n",
    "\n",
    "Untuk menginstall **Jupyter Notebook** teman-teman dapat memberikan perintah `conda install -c conda-forge notebook` atau ` conda install notebook` di **Command Prompt**. Setelah itu ikuti prosesnya sampai selesai, apabila di bagian akhir tertulis `failed` dengan pesan error seperti di bawah,\n",
    "\n",
    "```\n",
    "You don't appear to have the necessary permissions to update packages\n",
    "into the install area '[lokasi instalasi]'.\n",
    "However you can clone this environment into your home directory and\n",
    "then make changes to it.\n",
    "This may be done using the command:\n",
    "$ conda create -n my_root --clone=[lokasi instalasi]\n",
    "```\n",
    "artinya teman-teman tidak memiliki ijin/permission untuk membuat file di `[lokasi instalasi]`, hal ini dapat disebabkan karena teman-teman tidak berstatus sebagai **Administrator** di laptop teman-teman. Untuk itu user teman-teman perlu di ubah menjadi tipe **Administrator** dengan cara seperti pada laman web berikut [change user type](https://www.top-password.com/knowledge/change-standard-user-to-administrator.html).\n",
    "\n",
    "Selanjutnya restart **cmd** kemudian ulangi instalasi **Jupyter-Notebook**. Apabila masih error seperti di atas, maka langkah termudah adalah reinstall **Miniconda** dengan memilih lokasi instalasi yang tidak dibatasi aksesnya oleh Windows. Seperti di Local Disk D, E dan seterusnya, contohnya sperti di `D:\\Miniconda3`.\n"
   ]
  },
  {
   "cell_type": "markdown",
   "metadata": {},
   "source": [
    "## 3. Error karena OS tidak support\n",
    "\n",
    "Kalau error saat instalasi Python 3.7 atau Miniconda 3.7 dengan pesan error bahwa teman-tean harus update os, maka dapat menggunakan Miniconda dan Python dengan versi 2.7. Dengan catatan ada beberapa perbedaan syntax nantinya."
   ]
  }
 ],
 "metadata": {
  "kernelspec": {
   "display_name": "Python 3",
   "language": "python",
   "name": "python3"
  },
  "language_info": {
   "codemirror_mode": {
    "name": "ipython",
    "version": 3
   },
   "file_extension": ".py",
   "mimetype": "text/x-python",
   "name": "python",
   "nbconvert_exporter": "python",
   "pygments_lexer": "ipython3",
   "version": "3.7.4"
  }
 },
 "nbformat": 4,
 "nbformat_minor": 4
}
