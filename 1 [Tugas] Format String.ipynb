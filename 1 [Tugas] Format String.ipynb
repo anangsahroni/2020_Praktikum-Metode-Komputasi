{
 "cells": [
  {
   "cell_type": "markdown",
   "metadata": {},
   "source": [
    "<div style=\"background-color: #ffc107  !important; color: grey; min-height: 50px; padding: 10px; margin: auto;\">\n",
    "    <p style=\"text-align: right; font-style: italic\">Praktikum Metode Komputasi-1</p>\n",
    "    <h1>Tugas 1: Format String</h1>\n",
    "</div>\n",
    "<div style=\"background-color: whitesmoke; padding: 10px; padding-bottom: 0px; \">\n",
    "    <ul>\n",
    "        <li>Praktikum Metode Komputasi</li>\n",
    "        <li>Pertemuan: 1</li>\n",
    "        <li>Format file: Portable Document Format (PDF)</li>\n",
    "        <li>Template:<a href=\"./material/report_template.docx\"> Download Template Laporan</a></li>\n",
    "        <li>Link Pengumpulan: Google Classroom</li>\n",
    "        <li>Format Nama File: 1-[NIM]-Nama, contoh: 1-362705-Anang Sahroni</li>\n",
    "    </ul>\n",
    "</div>\n",
    "<div style=\"background-color: #dc3545; color: white \">\n",
    "    <ul>\n",
    "        <li>Deadline: Selasa, 17 Maret 2020 13.00 WIB</li>\n",
    "    </ul>\n",
    "</div>"
   ]
  },
  {
   "cell_type": "markdown",
   "metadata": {},
   "source": [
    "<div style=\"background-color: #e8f5f7  !important; border: solid 1.5px #9cd6dc; min-height: 50px; padding: 10px; margin: auto;\">\n",
    "    <h3>Petunjuk</h3>\n",
    "    <p>Bacalah modul dari Pak Wiwit tentang String di laman berikut: <a href=\"https://mybinder.org/v2/gh/maswiet/Kuliah_Metode_Komputasi/master?filepath=StringLoopFunc.ipynb\"><img src=\"https://mybinder.org/badge_logo.svg\"></a><p>\n",
    "    <p>Kemudian jawablah soal di bawah ini:</p>\n",
    "</div>"
   ]
  },
  {
   "cell_type": "markdown",
   "metadata": {},
   "source": [
    "## 1. Format String\n",
    "\n",
    "Warung Bu Ormas di Kantin Klaster Saintek UGM akhir-akhir ini sedang laris karena musim mahasiswa ujian sehingga cepat dilanda lapar. Bu Ormas dibantu oleh beberapa pegawai, Mbak Siti sebagai juru masak, Mas Slamet sebagai pramusaji, dan Mbak Diah sebagai penjaga kasir. Penghitungan pembayaran biasanya dihitung secara manual oleh Mbak Diah yang memang dari lahir punya bakat menghitung cepat sehingga mau seramai apapun semuanya bisa ditangani oleh Mbak Diah, Mbak Diah memang ahli dalam jarimatika.\n",
    "\n",
    "Semuanya berjalan lancar, sebelum Mbak Diah tiba-tiba harus kembali ke kampung halamannya di Solo karena dilamar dan akan segera menikah. Bu Ormas tidak bisa berbuat apa-apa, tentu, pekerjaan menghitung pembayaran akan terhambat dan bisa-bisa pelanggan pada malas beli karena harus antri ketika membayar. Sedang dilanda kebingungan di hari Jumat Wage tersebut, tiba-tiba Bu Ormas ingat ada kamu, mahasiswa Geofisika 2019 yang sehari-hari makan di warung Bu Ormas, sambil _coding_ di kantin. Bu Ormas ingat kata-katamu bahwa kamu kurang menikmati makan kalau tidak sambil _coding_.\n",
    "\n",
    "Baru diingat-ingat tiba-tiba kamu datang karena kelaparan, Bu Ormas langsung meminta tolong kamu untuk membuatkan program otomatis penghitungan total pembayaran. Dengan iming-iming gratis makan 3 kali sehari selama seminggu, tentunya kamu tidak mengelak. Berikut permintaan program dari Bu Ormas:\n",
    "\n",
    "1. Membuat aplikasi penghitungan pembayaran\n",
    "2. Bu Ormas hanya memasukkan jumlah makanan yang dibeli oleh pelanggan\n",
    "3. Layar akan menampilkan nama makanan, harga jumlah, dan total harga per makanan\n",
    "4. Di bagian bawah akan ada jumlah total pembayaran\n",
    "5. Bu Ormas kemudian memasukkan jumlah uang yang dibayarkan pelanggan\n",
    "6. Aplikasi akan menghitung otomatis uang kembalian\n",
    "\n",
    "**Berikut gambaran hasil akhir**\n",
    "\n",
    "![tugas](./material/1tugas_string.gif)\n",
    "```\n",
    "\n",
    "Warung Bu Ormas\n",
    "Warung Era 4.0 berbasis Python\n",
    "============================================================\n",
    "Masukkan jumlah masing-masing pesanan:\n",
    "Nasi: 1\n",
    "Ayam: 1\n",
    "Telur: 1\n",
    "Kerupuk: 3\n",
    "Es Teh: 2\n",
    "============================================================\n",
    "Makanan                          Harga    Jumlah       Total\n",
    "------------------------------------------------------------\n",
    "Nasi                           3000.00         1     3000.00\n",
    "Ayam                           5000.00         1     5000.00\n",
    "Telur                          3500.00         1     3500.00\n",
    "Kerupuk                        1000.00         3     3000.00\n",
    "Es Teh                         2500.00         2     5000.00\n",
    "------------------------------------------------------------\n",
    "Total                                               19500.00\n",
    "------------------------------------------------------------\n",
    "Masukkan uang yang dibayarkan: 20000\n",
    "------------------------------------------------------------\n",
    "Uang dibayar                                        20000.00\n",
    "Uang kembalian                                        500.00\n",
    "```"
   ]
  }
 ],
 "metadata": {
  "kernelspec": {
   "display_name": "Python 3",
   "language": "python",
   "name": "python3"
  },
  "language_info": {
   "codemirror_mode": {
    "name": "ipython",
    "version": 3
   },
   "file_extension": ".py",
   "mimetype": "text/x-python",
   "name": "python",
   "nbconvert_exporter": "python",
   "pygments_lexer": "ipython3",
   "version": "3.7.4"
  }
 },
 "nbformat": 4,
 "nbformat_minor": 4
}
