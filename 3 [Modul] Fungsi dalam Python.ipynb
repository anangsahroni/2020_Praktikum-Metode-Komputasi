{
 "cells": [
  {
   "cell_type": "markdown",
   "metadata": {},
   "source": [
    "<div style=\"background-color: #28a745 !important; color: white; min-height: 50px; padding: 10px; margin: auto;\">\n",
    "    <p style=\"text-align: right; font-style: italic\">Praktikum Metode Komputasi-3</p>\n",
    "    <h1>Fungsi dalam Python</h1>\n",
    "</div>\n",
    "<div style=\"background-color: whitesmoke; padding: 10px \">\n",
    "    <ul>\n",
    "        <li>Tujuan: Memperkenalkan Fungsi dalam Python</li>\n",
    "        <li>Keluaran: Mahasiswa dapat memahami tentang apa itu fungsi dan menggunakannya sesuai dengan kebutuhan</li>\n",
    "        <li>Pertemuan: 3</li>\n",
    "        <li>Waktu/Tempat: Jumat, 20 Maret 2020/ Hangout Meet</li>\n",
    "    </ul>\n",
    "</div>"
   ]
  },
  {
   "cell_type": "markdown",
   "metadata": {},
   "source": [
    "# 1. Apa itu Fungsi?\n",
    "Fungsi adalah program kecil terpisah yang menyusun program utama, program utama biasanya terdiri atas beberapa fungsi-fungi (program-program kecil). Kegunaan pemisahan menjadi fungsi adalah untuk mempermudah melokalisasi kesalahan, mempermudah modifikasi dan perbaikan, memungkinkan penggunaan kembali di program utama lain, serta meminimalkan perintah yang sama.\n",
    "\n",
    "Kita biasanya sudah biasa menggunakan fungsi, tanpa kita sadari, karena Python memiliki beberapa fungsi bawaan seperti contohnya:\n",
    "\n",
    "```python\n",
    "print(\"Hello World\")\n",
    "```\n",
    "\n",
    "ya, `print()` merupakan salah satu fungsi yang berfungsi untuk mencetak argumen yang kita tuliskan. Fungsi-fungsi lain seperti `input()`, `len()`, `max()`, dsb.\n",
    "\n",
    "## Struktur Fungsi\n",
    "\n",
    "![struktur fungsi](http://swcarpentry.github.io/python-novice-inflammation/fig/python-function.svg \"Struktur Fungsi (swcarpentry.github.io)\")\n",
    "\n",
    "Struktur umum fungsi adalah seperti di atas ([swcarpentry](http://swcarpentry.github.io)), dimulai dengan `def` sebagai tanda pendefinisian fungsi dilanjutkan dengan `fahr_to_celcius` yang merupakan nama fungsi. Argumen `temp` setelah nama fungsi merupakan variabel yang akan kita masukkan dalam fungsi. `return` akan mengembalikan nilai yang disini merupakan nilai suhu dalam celcius.\n",
    "\n",
    "```python\n",
    "def <nama fungsi> (argumen1, argumen2,dst):\n",
    "    <statemen-statemen>\n",
    "    return <value>\n",
    "```\n",
    "\n",
    "Fungsi tidak harus memiliki argumen dan tidak harus memberikan nilai balik dalam `return`, seperti contoh:"
   ]
  },
  {
   "cell_type": "code",
   "execution_count": 23,
   "metadata": {},
   "outputs": [],
   "source": [
    "def cetak_ucapan():\n",
    "    print(\"Selamat kuliah online\")"
   ]
  },
  {
   "cell_type": "code",
   "execution_count": 43,
   "metadata": {},
   "outputs": [],
   "source": [
    "def lagi_apa_sekarang():\n",
    "    print(\"Sekarang sedang kuliah online\")"
   ]
  },
  {
   "cell_type": "code",
   "execution_count": 44,
   "metadata": {
    "scrolled": true
   },
   "outputs": [
    {
     "name": "stdout",
     "output_type": "stream",
     "text": [
      "Sekarang sedang kuliah online\n"
     ]
    }
   ],
   "source": [
    "lagi_apa_sekarang()"
   ]
  },
  {
   "cell_type": "code",
   "execution_count": 24,
   "metadata": {
    "scrolled": true
   },
   "outputs": [
    {
     "name": "stdout",
     "output_type": "stream",
     "text": [
      "Selamat kuliah online\n"
     ]
    }
   ],
   "source": [
    "cetak_ucapan()"
   ]
  },
  {
   "cell_type": "markdown",
   "metadata": {},
   "source": [
    "## Mengapa menggunakan `return`?\n",
    "Lalu apa perbedaan sebuah fungsi yang memberikan `return` dan yang tidak memberikan `return`?\n",
    "\n",
    "Pada fungsi yang tidak memberikan nilai yang dikembalikan `return` maka nilai yang didapatkan dari fungsi tersebut tidak diingat-ingat oleh Python, sehingga apabila kita mendefinisikan variabel dengan fungsi tersebut, maka nilai dari fungsi tidak akan tersimpan dalam variabel tersebut. "
   ]
  },
  {
   "cell_type": "code",
   "execution_count": 25,
   "metadata": {},
   "outputs": [],
   "source": [
    "def tambahkan(a,b):\n",
    "    \"\"\"\n",
    "    Menambahkan nilai a dan b.\n",
    "    \n",
    "    Contoh:\n",
    "    --------\n",
    "    >>> tambahkan(3,4)\n",
    "    7\n",
    "    \"\"\"\n",
    "    print(a+b)"
   ]
  },
  {
   "cell_type": "code",
   "execution_count": 47,
   "metadata": {},
   "outputs": [
    {
     "name": "stdout",
     "output_type": "stream",
     "text": [
      "11\n"
     ]
    }
   ],
   "source": [
    "tambahkan(3,8)"
   ]
  },
  {
   "cell_type": "code",
   "execution_count": 8,
   "metadata": {
    "scrolled": true
   },
   "outputs": [
    {
     "name": "stdout",
     "output_type": "stream",
     "text": [
      "10\n",
      "None\n"
     ]
    }
   ],
   "source": [
    "a = tambahkan(7,3)\n",
    "print(a)"
   ]
  },
  {
   "cell_type": "markdown",
   "metadata": {},
   "source": [
    "Pada fungsi di atas kita tidak memberikan nilai yang ddikembalikan, sehingga ketika kita mendefinisikan sebuah variabel `a` dengan fungsi tersebut, tidak lantas memberikan nilai untuk `a`. Ketika kita memanggil kembali `a` maka yang akan keluar adalah `None`. Sedangkan untuk fungsi yang memberikan nilai kembalian:"
   ]
  },
  {
   "cell_type": "code",
   "execution_count": 55,
   "metadata": {},
   "outputs": [],
   "source": [
    "def tambah(x,y):\n",
    "    return x+y"
   ]
  },
  {
   "cell_type": "code",
   "execution_count": 56,
   "metadata": {},
   "outputs": [
    {
     "name": "stdout",
     "output_type": "stream",
     "text": [
      "6\n"
     ]
    }
   ],
   "source": [
    "tbh = tambah(3,3)\n",
    "print(tbh)"
   ]
  },
  {
   "cell_type": "markdown",
   "metadata": {},
   "source": [
    "Untuk bentuk umum fungsi:"
   ]
  },
  {
   "cell_type": "code",
   "execution_count": 26,
   "metadata": {},
   "outputs": [],
   "source": [
    "def luas_lingkaran(jari_jari):\n",
    "    \"\"\"\n",
    "    Menghitung luas lingkaran dengan memasukkan nilai jari-jari.\n",
    "    \n",
    "    Contoh:\n",
    "    --------\n",
    "    luas_lingkaran(10)\n",
    "    628\n",
    "    \"\"\"\n",
    "    luas = 2 * 3.14 * (jari_jari**2)\n",
    "    return luas"
   ]
  },
  {
   "cell_type": "code",
   "execution_count": 15,
   "metadata": {},
   "outputs": [
    {
     "data": {
      "text/plain": [
       "307.72"
      ]
     },
     "execution_count": 15,
     "metadata": {},
     "output_type": "execute_result"
    }
   ],
   "source": [
    "luas_lingkaran(7)"
   ]
  },
  {
   "cell_type": "markdown",
   "metadata": {},
   "source": [
    "Dalam kasus di atas nama fungsi adalah `luas_lingkaran` dengan argumen yang dimasukkan berupa nilai `jari_jari`, hasil yang dikembalikan adalah luas dari lingkaran.\n",
    "\n",
    "Fungsi juga dapat dipanggil untuk dimasukkan dalam fungsi yang lain, seperti contohnya dalam kasus ini adalah penghitungan volume tabung:"
   ]
  },
  {
   "cell_type": "code",
   "execution_count": 12,
   "metadata": {},
   "outputs": [],
   "source": [
    "# Mencari volume_tabung\n",
    "def volume_tabung(jari_jari, tinggi):\n",
    "    volume = luas_lingkaran(jari_jari) * tinggi\n",
    "    return volume"
   ]
  },
  {
   "cell_type": "code",
   "execution_count": 14,
   "metadata": {},
   "outputs": [
    {
     "data": {
      "text/plain": [
       "3077.2000000000003"
      ]
     },
     "execution_count": 14,
     "metadata": {},
     "output_type": "execute_result"
    }
   ],
   "source": [
    "volume_tabung(7,10)"
   ]
  },
  {
   "cell_type": "markdown",
   "metadata": {},
   "source": [
    "## Ekspresi `lambda`\n",
    "\n",
    "Lambda merupakan sebuah fungsi yang berbentuk ekspresi, biasanya merupakan ekspresi yang berupa satu baris, dan tidak bisa memuat statemen."
   ]
  },
  {
   "cell_type": "code",
   "execution_count": 59,
   "metadata": {},
   "outputs": [
    {
     "data": {
      "text/plain": [
       "3"
      ]
     },
     "execution_count": 59,
     "metadata": {},
     "output_type": "execute_result"
    }
   ],
   "source": [
    "y = lambda x: x+1\n",
    "y(2)"
   ]
  },
  {
   "cell_type": "code",
   "execution_count": 10,
   "metadata": {},
   "outputs": [
    {
     "data": {
      "text/plain": [
       "7"
      ]
     },
     "execution_count": 10,
     "metadata": {},
     "output_type": "execute_result"
    }
   ],
   "source": [
    "(lambda x: x+3)(4)"
   ]
  },
  {
   "cell_type": "markdown",
   "metadata": {},
   "source": [
    "`lambda` tidak dapat memuat statement:"
   ]
  },
  {
   "cell_type": "code",
   "execution_count": 13,
   "metadata": {},
   "outputs": [
    {
     "ename": "SyntaxError",
     "evalue": "invalid syntax (<ipython-input-13-1813ef0e0343>, line 1)",
     "output_type": "error",
     "traceback": [
      "\u001b[0;36m  File \u001b[0;32m\"<ipython-input-13-1813ef0e0343>\"\u001b[0;36m, line \u001b[0;32m1\u001b[0m\n\u001b[0;31m    (lambda x: for a in x:\u001b[0m\n\u001b[0m                 ^\u001b[0m\n\u001b[0;31mSyntaxError\u001b[0m\u001b[0;31m:\u001b[0m invalid syntax\n"
     ]
    }
   ],
   "source": [
    "(lambda x: for a in x:\n",
    "print(a))(2)"
   ]
  },
  {
   "cell_type": "code",
   "execution_count": 15,
   "metadata": {},
   "outputs": [
    {
     "data": {
      "text/plain": [
       "'Sir Robin'"
      ]
     },
     "execution_count": 15,
     "metadata": {},
     "output_type": "execute_result"
    }
   ],
   "source": [
    "def nama():\n",
    "    gelar = 'Sir' # ini adalah contoh statemen\n",
    "    aksi = (lambda x: gelar + ' ' + x)\n",
    "    return aksi\n",
    "\n",
    "act = nama()\n",
    "act('Robin')"
   ]
  },
  {
   "cell_type": "markdown",
   "metadata": {},
   "source": [
    "## _Scope Variable_\n",
    "\n",
    "Variabel dalam fungsi bersifat *lokal* artinya hanya berlaku di dalam fungsi tersebut, sementara variabel di luar fungsi bersifat *global* dana berlaku dimanapun, contohnya:"
   ]
  },
  {
   "cell_type": "code",
   "execution_count": 20,
   "metadata": {},
   "outputs": [
    {
     "name": "stdout",
     "output_type": "stream",
     "text": [
      "Apabila kita panggil x di dalam fungsi maka x=  10\n",
      "Apabila kita panggil x di luar fungsi maka x=  30\n"
     ]
    }
   ],
   "source": [
    "# variabel global\n",
    "x = 30\n",
    "\n",
    "def nilai_x():\n",
    "    x = 10 # variabel lokal\n",
    "    return print(\"Apabila kita panggil x di dalam fungsi maka x= \", x)\n",
    "\n",
    "# Apabila kita panggil x di dalam fungsi maka\n",
    "nilai_x()\n",
    "\n",
    "# Apabila kita panggil x di luar fungsi maka\n",
    "print(\"Apabila kita panggil x di luar fungsi maka x= \", x)"
   ]
  },
  {
   "cell_type": "markdown",
   "metadata": {},
   "source": [
    "## Dokumentasi Fungsi"
   ]
  },
  {
   "cell_type": "code",
   "execution_count": 70,
   "metadata": {},
   "outputs": [],
   "source": [
    "def luas_segitiga(alas, tinggi):\n",
    "    \"\"\"Menghitung luas segitiga dengan alas dan tinggi tertentu\n",
    "    contoh:   luas_segitiga(4,10) ---> 20\n",
    "    \"\"\"\n",
    "    luas = 0.5 * alas * tinggi\n",
    "    return luas\n",
    "    "
   ]
  },
  {
   "cell_type": "code",
   "execution_count": 71,
   "metadata": {},
   "outputs": [
    {
     "name": "stdout",
     "output_type": "stream",
     "text": [
      "Help on function luas_segitiga in module __main__:\n",
      "\n",
      "luas_segitiga(alas, tinggi)\n",
      "    Menghitung luas segitiga dengan alas dan tinggi tertentu\n",
      "    contoh:   luas_segitiga(4,10) ---> 20\n",
      "\n"
     ]
    }
   ],
   "source": [
    "help(luas_segitiga)"
   ]
  },
  {
   "cell_type": "markdown",
   "metadata": {},
   "source": [
    "## Fungsi Rekursif\n",
    "\n",
    "Fungsi rekursif adalah fungsi yang memanggil dirinya sendiri, contoh dari Modul:"
   ]
  },
  {
   "cell_type": "code",
   "execution_count": 9,
   "metadata": {},
   "outputs": [
    {
     "name": "stdout",
     "output_type": "stream",
     "text": [
      "6\n"
     ]
    }
   ],
   "source": [
    "# Program untuk menghitung faktorial\n",
    "def faktorial(nilai):\n",
    "    if nilai <= 1:\n",
    "        return 1\n",
    "    else:\n",
    "        return nilai * faktorial(nilai-1)\n",
    "\n",
    "print(faktorial(3))"
   ]
  },
  {
   "cell_type": "markdown",
   "metadata": {},
   "source": [
    "Proses yang terjadi dalam pemanggilan fungsi `faktorial(3)` adalah:\n",
    "\n",
    "```\n",
    "3 * faktorial(3-1) = 3 * faktorial(2) = 3 * 2 * faktorial(1) \n",
    "```"
   ]
  },
  {
   "cell_type": "code",
   "execution_count": 87,
   "metadata": {},
   "outputs": [
    {
     "name": "stdout",
     "output_type": "stream",
     "text": [
      "0! =  1\n",
      "1! =  1\n",
      "2! =  2\n",
      "3! =  6\n",
      "4! =  24\n"
     ]
    }
   ],
   "source": [
    "for i in range(5):\n",
    "    print(str(i)+'! = ', faktorial(i))"
   ]
  },
  {
   "cell_type": "markdown",
   "metadata": {},
   "source": [
    "## Melewatkan Argumen dengan Kata Kunci"
   ]
  },
  {
   "cell_type": "markdown",
   "metadata": {},
   "source": [
    "Kita dapat dengan secara tidak urut memberikan argumen di dalam fungsi, asalkan nama argumen yang digunakan sama dengan argumen dalam fungsi yang kita definisikan:"
   ]
  },
  {
   "cell_type": "code",
   "execution_count": 3,
   "metadata": {},
   "outputs": [
    {
     "data": {
      "text/plain": [
       "1.5"
      ]
     },
     "execution_count": 3,
     "metadata": {},
     "output_type": "execute_result"
    }
   ],
   "source": [
    "def tambah(a,b):\n",
    "    return a/b\n",
    "\n",
    "#tambah(6,3)\n",
    "\n",
    "tambah(b=4, a=6)"
   ]
  },
  {
   "cell_type": "markdown",
   "metadata": {},
   "source": [
    "Namun harus berhati-hari karena apabila suatu argumen itdak disertai nama argumennya maka dia dianggap sesuai dengan urutannya, dan dapat menimbulkan error apabila terdapat argumen dengna kata kunci yang double:"
   ]
  },
  {
   "cell_type": "code",
   "execution_count": 4,
   "metadata": {},
   "outputs": [
    {
     "ename": "TypeError",
     "evalue": "tambah() got multiple values for argument 'a'",
     "output_type": "error",
     "traceback": [
      "\u001b[0;31m---------------------------------------------------------------------------\u001b[0m",
      "\u001b[0;31mTypeError\u001b[0m                                 Traceback (most recent call last)",
      "\u001b[0;32m<ipython-input-4-f379dbf7de92>\u001b[0m in \u001b[0;36m<module>\u001b[0;34m\u001b[0m\n\u001b[0;32m----> 1\u001b[0;31m \u001b[0mtambah\u001b[0m\u001b[0;34m(\u001b[0m\u001b[0;36m4\u001b[0m\u001b[0;34m,\u001b[0m \u001b[0ma\u001b[0m\u001b[0;34m=\u001b[0m\u001b[0;36m9\u001b[0m\u001b[0;34m)\u001b[0m\u001b[0;34m\u001b[0m\u001b[0;34m\u001b[0m\u001b[0m\n\u001b[0m",
      "\u001b[0;31mTypeError\u001b[0m: tambah() got multiple values for argument 'a'"
     ]
    }
   ],
   "source": [
    "tambah(4, a=9)"
   ]
  },
  {
   "cell_type": "code",
   "execution_count": 82,
   "metadata": {},
   "outputs": [],
   "source": [
    "# membuat semacam fungsi dengan argumen yang sudah didefinisikan terlebih dahulu\n",
    "\n",
    "def prisma(luas_alas, tinggi=10):\n",
    "    \"Menghitung volume prisma dengan tinggi default=10\"\n",
    "    volume = luas_alas * tinggi\n",
    "    return volume"
   ]
  },
  {
   "cell_type": "code",
   "execution_count": 88,
   "metadata": {
    "scrolled": true
   },
   "outputs": [
    {
     "data": {
      "text/plain": [
       "60"
      ]
     },
     "execution_count": 88,
     "metadata": {},
     "output_type": "execute_result"
    }
   ],
   "source": [
    "prisma(3, 20)"
   ]
  },
  {
   "cell_type": "markdown",
   "metadata": {},
   "source": [
    "Contoh membuat fungsi untuk menghitung rata-rata dari sebuah list"
   ]
  },
  {
   "cell_type": "code",
   "execution_count": 27,
   "metadata": {},
   "outputs": [
    {
     "data": {
      "text/plain": [
       "5.5"
      ]
     },
     "execution_count": 27,
     "metadata": {},
     "output_type": "execute_result"
    }
   ],
   "source": [
    "x = [1,2,3,4,5,6,7,8,9,10]\n",
    "\n",
    "def rata_rata(x):\n",
    "    \"\"\"Menghitung rata-rata dari sebuah list\n",
    "    Contoh: rata-rata([1,2,3]) --> 1  \"\"\"\n",
    "    angka_awal = 0\n",
    "    n = 0 #jumlah angka\n",
    "    for angka in x:\n",
    "        angka_awal = angka_awal + angka\n",
    "        n = n + 1 # jumlah angka\n",
    "    return angka_awal/n\n",
    "\n",
    "rata_rata(x)\n",
    "        "
   ]
  },
  {
   "cell_type": "markdown",
   "metadata": {},
   "source": [
    "## Dokumentasi pada Fungsi\n",
    "\n",
    "Dokumentasi atau bahasa mudahnya ialah petunjuk digunakan untuk memberikan petunjuk penggunaan fungsi, biasanya kita menuliskan dokumentasi dengan memberikan triple quote mark di awal dan di akhir petunjuk, diletakkan setelah definisi fungsi.\n",
    "\n",
    "Dokumentasi ini sangat penting karena mempermudah penggunaan, terutama apabila pengguna fungsi merupakan orang lain yang belum mengerti. Pada praktikum ini diwajibkan memberikan dokumentasi yang jelas pada setiap fungsi.\n",
    "\n",
    "Contoh pemberian Dokumentasi:"
   ]
  },
  {
   "cell_type": "code",
   "execution_count": 28,
   "metadata": {},
   "outputs": [],
   "source": [
    "def luas_lingkaran(jari_jari):\n",
    "    \"\"\"\n",
    "    Menghitung luas lingkaran dengan memasukkan nilai jari-jari.\n",
    "    \n",
    "    Contoh:\n",
    "    --------\n",
    "    luas_lingkaran(10)\n",
    "    628\n",
    "    \"\"\"\n",
    "    luas = 2 * 3.14 * (jari_jari**2)\n",
    "    return luas"
   ]
  },
  {
   "cell_type": "markdown",
   "metadata": {},
   "source": [
    "Untuk memanggil dokumentasi:"
   ]
  },
  {
   "cell_type": "code",
   "execution_count": 30,
   "metadata": {},
   "outputs": [
    {
     "name": "stdout",
     "output_type": "stream",
     "text": [
      "Help on function luas_lingkaran in module __main__:\n",
      "\n",
      "luas_lingkaran(jari_jari)\n",
      "    Menghitung luas lingkaran dengan memasukkan nilai jari-jari.\n",
      "    \n",
      "    Contoh:\n",
      "    --------\n",
      "    luas_lingkaran(10)\n",
      "    628\n",
      "\n"
     ]
    }
   ],
   "source": [
    "help(luas_lingkaran)"
   ]
  },
  {
   "cell_type": "markdown",
   "metadata": {},
   "source": [
    "Selain itu gunakan nama fungsi dan variabel yang dapat dipahami oleh orang lain. Contoh salah dalam pemberian nama variabel:"
   ]
  },
  {
   "cell_type": "code",
   "execution_count": 32,
   "metadata": {},
   "outputs": [],
   "source": [
    "def luasling(q):\n",
    "    \"\"\"\n",
    "    Menghitung luas lingkaran dengan memasukkan nilai jari-jari.\n",
    "    \n",
    "    Contoh:\n",
    "    --------\n",
    "    luas_lingkaran(10)\n",
    "    628\n",
    "    \"\"\"\n",
    "    a = 2 * 3.14 * (q*2)\n",
    "    return a"
   ]
  },
  {
   "cell_type": "markdown",
   "metadata": {},
   "source": [
    "Contoh yang benar:"
   ]
  },
  {
   "cell_type": "code",
   "execution_count": 33,
   "metadata": {},
   "outputs": [],
   "source": [
    "def luas_lingkaran(jari_jari):\n",
    "    \"\"\"\n",
    "    Menghitung luas lingkaran dengan memasukkan nilai jari-jari.\n",
    "    \n",
    "    Contoh:\n",
    "    --------\n",
    "    luas_lingkaran(10)\n",
    "    628\n",
    "    \"\"\"\n",
    "    luas = 2 * 3.14 * (jari_jari**2)\n",
    "    return luas"
   ]
  },
  {
   "cell_type": "markdown",
   "metadata": {},
   "source": [
    "<div style=\"background-color: #ffc107  !important; color: grey; min-height: 50px; padding: 10px; margin: auto;\">\n",
    "    <p style=\"text-align: right; font-style: italic\">Praktikum Metode Komputasi-3</p>\n",
    "    <h1>Tugas 3: Fungsi dalam Python</h1>\n",
    "</div>\n",
    "<div style=\"background-color: whitesmoke; padding: 10px; padding-bottom: 0px; \">\n",
    "    <ul>\n",
    "        <li>Praktikum Metode Komputasi</li>\n",
    "        <li>Pertemuan: 3</li>\n",
    "        <li>Format file: Portable Document Format (PDF)</li>\n",
    "        <li>Template:<a href=\"./material/report_template.docx\"> Download Template Laporan</a></li>\n",
    "        <li>Link Pengumpulan: Google Classroom</li>\n",
    "        <li>Format Nama File: 3-[NIM]-Nama, contoh: 1-362705-Anang Sahroni</li>\n",
    "    </ul>\n",
    "</div>\n",
    "<div style=\"background-color: #dc3545; color: white \">\n",
    "    <ul>\n",
    "        <li>Deadline: Sabtu, 29 Maret 2020 23.59 WIB</li>\n",
    "    </ul>\n",
    "</div>"
   ]
  },
  {
   "cell_type": "markdown",
   "metadata": {},
   "source": [
    "> **Tugas minggu ini agak sedikit berbeda, kita akan mulai bermain dengan fisika dasar :D**\n",
    "\n",
    "**Soal diambil dari:**\n",
    "\"Halliday, David & Resnick, Robert & Walker, Jearl. (2012). Extended , Fundamentals of Physics, 10th Edition.\" \n",
    "\n",
    "**Petunjuk:** Pada tugas kali ini teman-teman diminta menyelesaikan soal ini dengan memanfaatkan pengetahuan tentang fungsi. Penyelesaian kali ini agak berbeda dan tidak seperti rutinitas biasanya, tidak ada pedoman baku bagaimana struktur kode dan output, silahkan gunakan kreativitas teman-teman. Untuk format laporan tetap seperti biasa, hanya saja bentuk kode dan output silahkan teman-teman bereksplorasi :D \n",
    "\n",
    "---\n",
    "## Calculating Wave Intensity\n",
    "On July 10, 1996, a granite block broke away from a wall in Yosemite Valley and, as it began to slide down the wall, was launched into projectile motion. Seismic waves produced by its impact with the ground triggered seismographs as far away as 200 km. Later measurements indicated that the block had a mass between 7.3 x 10^7 kg and 1.7 x 10^8 kg and that it landed 500 m vertically below the launch point and 30 m horizontally from it. (The launch angle is not known.) (a) Estimate the block’s kinetic energy just before it landed.\n",
    "\n",
    "Consider two types of seismic waves that spread from the impact point — a hemispherical body wave traveled through the ground in an expanding hemisphere and a cylindrical surface wave traveled along the ground in an expanding shallow vertical cylinder (Fig. 17-49). Assume that the impact lasted 0.50 s, the verticalcylinder had a depth d of 5.0 m, and each wave type received 20% of the energy the block had just before impact. Neglecting any\n",
    "mechanical energy loss the waves experienced as they traveled, determine the intensities of (b) the body wave and (c) the surface wave when they reached a seismograph 200 km away. (d) On the basis of these results, which wave is more easily detected on a distant seismograph?\n",
    "\n",
    "![wave intensity](./material/wave-intensity.png)"
   ]
  }
 ],
 "metadata": {
  "kernelspec": {
   "display_name": "Python 3",
   "language": "python",
   "name": "python3"
  },
  "language_info": {
   "codemirror_mode": {
    "name": "ipython",
    "version": 3
   },
   "file_extension": ".py",
   "mimetype": "text/x-python",
   "name": "python",
   "nbconvert_exporter": "python",
   "pygments_lexer": "ipython3",
   "version": "3.7.5"
  }
 },
 "nbformat": 4,
 "nbformat_minor": 2
}
